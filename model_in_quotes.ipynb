{
  "nbformat": 4,
  "nbformat_minor": 0,
  "metadata": {
    "colab": {
      "name": "model in quotes.ipynb",
      "provenance": [],
      "collapsed_sections": [],
      "authorship_tag": "ABX9TyOWsekVMB7G7lCgoqF80KhT",
      "include_colab_link": true
    },
    "kernelspec": {
      "name": "python3",
      "display_name": "Python 3"
    },
    "language_info": {
      "name": "python"
    }
  },
  "cells": [
    {
      "cell_type": "markdown",
      "metadata": {
        "id": "view-in-github",
        "colab_type": "text"
      },
      "source": [
        "<a href=\"https://colab.research.google.com/github/Kebatotkulov/CompEcon/blob/main/model_in_quotes.ipynb\" target=\"_parent\"><img src=\"https://colab.research.google.com/assets/colab-badge.svg\" alt=\"Open In Colab\"/></a>"
      ]
    },
    {
      "cell_type": "markdown",
      "source": [
        "# Pre settings"
      ],
      "metadata": {
        "id": "gasfVbNVnzxK"
      }
    },
    {
      "cell_type": "code",
      "source": [
        "import pandas as pd\n",
        "import numpy as np\n",
        "def merger(df1, df2, left, right, method):\n",
        "  ndata = pd.merge(df1, df2, left_on=  left,\n",
        "                   right_on= right, \n",
        "                   how = method)\n",
        "  return ndata"
      ],
      "metadata": {
        "id": "BhfbNKTG8oLu"
      },
      "execution_count": 166,
      "outputs": []
    },
    {
      "cell_type": "markdown",
      "source": [
        "# Data Simulation "
      ],
      "metadata": {
        "id": "LkWrNn5ZI40V"
      }
    },
    {
      "cell_type": "markdown",
      "source": [
        "Основная проблема в реальных данных: у нас расположено n_i-ое количество магазинов в каждом индексе, а значит у всех магазнов индексных зон будут одинаковые показатели revenue. Как можно рабоатать с такими данными?"
      ],
      "metadata": {
        "id": "N41GIhBSEJXr"
      }
    },
    {
      "cell_type": "code",
      "source": [
        "from itertools import product\n",
        "def data_gen(seed_m=42):\n",
        "  np.random.seed(seed_m)\n",
        "  synt_cons = {'postcode_id':[i for i in range(100)], \n",
        "             'income':abs(np.random.normal(80000, 20000, 100)), \n",
        "             'population':np.random.uniform(4000, 7000 ,100),\n",
        "             'vehicle': np.random.randint(2,size = 100)}\n",
        "  synt_stores = {'shopid':list(range(10)), \n",
        "               'size':abs(np.random.normal(500,200, 10)), \n",
        "               'chain': np.random.uniform(1, 4, 10)}\n",
        "  cons, shops = pd.DataFrame(synt_cons).astype(int), pd.DataFrame(synt_stores).astype(int)\n",
        "  a, b = list(cons['postcode_id']), list(shops['shopid'])\n",
        "  df1 = pd.DataFrame(tuple(product(a, b)), columns=['postcode', 'shop'])\n",
        "  m1 = merger(cons, df1, 'postcode_id', 'postcode', 'left')\n",
        "  merged_conshops = merger(m1,shops, 'shop', 'shopid', 'left')\n",
        "  merged_conshops['km'] = np.random.uniform(2, 10, 1000) \n",
        "  return cons, shops, merged_conshops"
      ],
      "metadata": {
        "id": "vg6MFn9CEIrZ"
      },
      "execution_count": 167,
      "outputs": []
    },
    {
      "cell_type": "code",
      "source": [
        "cons, shops, merged_conshops = data_gen(seed_m=42)"
      ],
      "metadata": {
        "id": "PbkdZHylT4Ew"
      },
      "execution_count": 168,
      "outputs": []
    },
    {
      "cell_type": "markdown",
      "source": [
        "Calcualte \"theoretical\" valuations based on EllicksonGriecoKhvastunov2020 parameters\n",
        "\n",
        "$u_{sti} = u_{st} + \\epsilon_{sti} = \\delta_0 d_{st} + \\delta_1 d_{st} z_t + \\gamma_0 x_s + \\gamma_1 (x_s \\otimes z_t) + \\epsilon_{sti} $\n",
        "\n"
      ],
      "metadata": {
        "id": "XmLFyiyArA7j"
      }
    },
    {
      "cell_type": "code",
      "source": [
        "def util_sum(data = merged_conshops):\n",
        "  data['dist*vehicle'] = data['km'] * data['vehicle']\n",
        "  data['log(income)'] = np.log(data['income'])\n",
        "  data['dist*log(inc)'] = data['km'] * data['log(income)']\n",
        "  data['log(size)'] = np.log(data['size'])\n",
        "  data['log(size)*log(inc)'] = data['log(size)'] * data['log(income)']\n",
        "  est_cols = ['km','vehicle','dist*vehicle', 'dist*log(inc)', 'log(size)', 'log(size)*log(inc)']\n",
        "  return data[est_cols] \n"
      ],
      "metadata": {
        "id": "jCCDoO3Xq_9X"
      },
      "execution_count": 169,
      "outputs": []
    },
    {
      "cell_type": "code",
      "source": [
        "est_data = util_sum()"
      ],
      "metadata": {
        "id": "05Uspc9zUHXA"
      },
      "execution_count": 170,
      "outputs": []
    },
    {
      "cell_type": "code",
      "source": [
        "def util(data, params):\n",
        "  util = data.values.dot(np.array(params))\n",
        "  return util"
      ],
      "metadata": {
        "id": "BzK3ysds2yei"
      },
      "execution_count": 171,
      "outputs": []
    },
    {
      "cell_type": "code",
      "source": [
        "params = [-0.150, 1.4, 0.3, -1.4, 0.154, 0.126]#[118.10406005,   1.4,  -0.36093365,  -9.39329557, 26.44946197,  -2.00253653]#[-0.150, 1.4, 0.3, -1.4, 0.154, 0.126]\n",
        "u = util(est_data, params)"
      ],
      "metadata": {
        "id": "OcP_3pmK3cPW"
      },
      "execution_count": 172,
      "outputs": []
    },
    {
      "cell_type": "code",
      "source": [
        "u_v = u.reshape(100,-1) #array of 100 preference arrays "
      ],
      "metadata": {
        "id": "VRqnleH55ScH"
      },
      "execution_count": 173,
      "outputs": []
    },
    {
      "cell_type": "markdown",
      "source": [
        "## Estimation\n",
        "Try Platform Markets (CompEcon) code"
      ],
      "metadata": {
        "id": "D7QEYpGQn43q"
      }
    },
    {
      "cell_type": "code",
      "source": [
        "def solve_sa(F,x0,tol=1e-6,maxiter=100,callback=None,raise_error=True):\n",
        "    '''Computes the solution of fixed point equation x = F(x)\n",
        "    with given initial value x0 and algorithm parameters\n",
        "    Method: successive approximations\n",
        "    '''\n",
        "    for i in range(maxiter):  # main loop\n",
        "        x1 = F(x0)  # update approximation\n",
        "        err = np.amax(np.abs(x0-x1))  # allow for x to be array\n",
        "        if callback != None: callback(iter=i,err=err,x=x1,x0=x0)\n",
        "        if err<tol:\n",
        "            break  # break out if converged\n",
        "        x0 = x1  # get ready to the next iteration\n",
        "    else:\n",
        "        if raise_error:\n",
        "            raise RuntimeError('Failed to converge in %d iterations'%maxiter)\n",
        "    return x1\n",
        "\n",
        "def mnewton(fun,grad,x0,tol=1e-6,maxiter=100,callback=None):\n",
        "    '''Multinomial Newton method for solving systems of equation F(x)=0,\n",
        "    x is vector of m elements, F(x) is a m-valued function.\n",
        "    Given tolerance and number of iterations are used.\n",
        "    Callback function is invoked at each iteration if given.\n",
        "    '''\n",
        "    # conversion to array function of array argument\n",
        "    npfun = lambda x: np.asarray(fun(x))\n",
        "    npgrad = lambda x: np.asarray(grad(x))\n",
        "    for i in range(maxiter):\n",
        "        x1 = x0 - np.linalg.inv(npgrad(x0)) @ npfun(x0)  # matrix version\n",
        "        err = np.amax(np.abs(x1-x0)) # max over vector elements\n",
        "        if callback != None: callback(iter=i,err=err,x0=x0,x1=x1,fun=fun)\n",
        "        if err<tol: break\n",
        "        x0 = x1\n",
        "    else:\n",
        "        raise RuntimeError('Failed to converge in %d iterations'%maxiter)\n",
        "    return x1\n",
        "\n",
        "class model:\n",
        "    '''Simple platform equilibrium model'''\n",
        "\n",
        "    def __init__(self, util_vec=u_v[0], m=10,n=1):\n",
        "        '''Define default model parameters'''\n",
        "        self.m,self.n = m,n  # number of products and consumer types\n",
        "        self.c = util_vec.reshape(m, n)    # valuations (random uniform)\n",
        "        self.p = np.array(n*[1/n])  # population composition (from symmetric Dirichlet distribution)\n",
        "\n",
        "    def __repr__(self):\n",
        "        return 'Number of platform products = {:d}\\nNumber of consumer types = {:d}\\nPopulation composition = {}\\nValuations:\\n{}'.format(self.m,self.n,self.p,self.c)\n",
        "\n",
        "    def ccp(self,u):\n",
        "        '''Conditional choice probabilities\n",
        "        Input: m*n array of utilities, to be reshaped\n",
        "        Output: m by n matrix\n",
        "        '''\n",
        "        u = np.asarray(u).reshape((self.m,self.n),order='F')   # convert to matrix, column-major reshaping\n",
        "        u = u - np.amax(u,axis=0) # de-max by column (avoid exp of large numbers)\n",
        "        e = np.exp(u)\n",
        "        esum = e.sum(axis=0)  # sums of exps\n",
        "        return e/esum         # matrix of choice probabilities\n",
        "\n",
        "    def shares(self,ccp):\n",
        "        '''Market shares from choice probabilities\n",
        "        Input: m by n matrix of ccps\n",
        "        Output: market shares, m by 1 column vector\n",
        "        '''\n",
        "        out = ccp @ self.p  # one-dim vector\n",
        "        return out[:,np.newaxis]  # column vector\n",
        "\n",
        "    def F(self,u):\n",
        "        '''Fixed point equation u=F(u)\n",
        "        Input: m*n array of utilities\n",
        "        Output: m*n array of utilities\n",
        "        '''\n",
        "        ccp = self.ccp(u)     # matrix of choice probabilities\n",
        "        sh = self.shares(ccp) # market shares\n",
        "        u1 = self.c + sh     # updated utilities\n",
        "        return u1.reshape(self.m*self.n,order='F') # return one dimensional array\n",
        "\n",
        "    def G(self,u):\n",
        "        '''LHS of the equation is standard form u-F(u)=0.\n",
        "        Input: m*n array of utilities\n",
        "        Output: m*n array of equation residuals\n",
        "        '''\n",
        "        return u - self.F(u)\n",
        "\n",
        "    def dGa(self,u):\n",
        "        '''Jacobian of G(u) computed in a direct and inefficient but more clear way\n",
        "        Input: m*n array of utilities\n",
        "        Output: m*n by m*n matrix of first derivatives\n",
        "        '''\n",
        "        ccp = self.ccp(u)\n",
        "        out = np.ones((self.m*self.n,self.m*self.n))\n",
        "        for i in range(self.m):\n",
        "            for j in range(self.n):\n",
        "                for k in range(self.m):\n",
        "                    for l in range(self.n):\n",
        "                        # formula for derivatives of dg(i,j)/du(k,l)\n",
        "                        if i==k and j==l:\n",
        "                            val = 1 - ccp[i,j]*(1-ccp[i,j])*self.p[l]\n",
        "                        elif i==k and j!=l:\n",
        "                            val = - ccp[i,l]*(1-ccp[i,l])*self.p[l]\n",
        "                        elif i!=k:\n",
        "                            val = ccp[i,l]*ccp[k,l]*self.p[l]\n",
        "                        else:\n",
        "                            raise error\n",
        "                        # column-major indexing\n",
        "                        out[j*self.m+i,l*self.m+k] = val\n",
        "        return out\n",
        "\n",
        "    def dGb(self,u):\n",
        "        '''Jacobian of G(u)\n",
        "        Input: m*n array of utilities\n",
        "        Output: m*n by m*n matrix of first derivatives\n",
        "        '''\n",
        "        ccp = self.ccp(u)\n",
        "        out = np.empty((self.m*self.n,self.m*self.n))\n",
        "        # step 1 and 2\n",
        "        for l in range(self.n):\n",
        "            block = self.p[l]*np.outer(ccp[:,l],ccp[:,l])\n",
        "            block -= np.diag(self.p[l]*ccp[:,l]) # add diagonal elements\n",
        "            out[:,l*self.m:(l+1)*self.m] = np.tile(block,(self.n,1))\n",
        "        # step 3\n",
        "        out += np.eye(self.m*self.n)\n",
        "        return out\n",
        "\n",
        "\n",
        "def printiter(**kwargs):\n",
        "    print('iter %d, err = %1.3e'%(kwargs['iter'],kwargs['err']))\n",
        "\n",
        "md = model(u_v[0])\n",
        "# md = model(m=3,n=2)\n",
        "print(md)\n",
        "\n",
        "x0 = md.c.reshape(md.m*md.n,order='F')\n",
        "print('x0=',x0)\n",
        "\n",
        "print('dG loops :',md.dGa(x0),sep='\\n')\n",
        "print('dG matrix:',md.dGb(x0),sep='\\n')\n",
        "print('Differences:',md.dGa(x0)-md.dGb(x0) > 1e-8,sep='\\n')"
      ],
      "metadata": {
        "colab": {
          "base_uri": "https://localhost:8080/"
        },
        "id": "MQDPoAb9n66E",
        "outputId": "411234d9-18bb-4ebc-a192-88687932e0fa"
      },
      "execution_count": 174,
      "outputs": [
        {
          "output_type": "stream",
          "name": "stdout",
          "text": [
            "Number of platform products = 10\n",
            "Number of consumer types = 1\n",
            "Population composition = [1.]\n",
            "Valuations:\n",
            "[[ -27.10867254]\n",
            " [ -87.17651798]\n",
            " [ -89.36141966]\n",
            " [-101.18156968]\n",
            " [-112.58879485]\n",
            " [-143.80037775]\n",
            " [ -84.64990544]\n",
            " [ -63.41558665]\n",
            " [-120.60071412]\n",
            " [ -56.27810868]]\n",
            "x0= [ -27.10867254  -87.17651798  -89.36141966 -101.18156968 -112.58879485\n",
            " -143.80037775  -84.64990544  -63.41558665 -120.60071412  -56.27810868]\n",
            "dG loops :\n",
            "[[1.00000000e+00 8.18212638e-27 9.20397520e-28 6.76938965e-33\n",
            "  7.52410013e-38 2.09621750e-51 1.02367022e-25 1.70650493e-16\n",
            "  2.49414810e-41 2.14721160e-13]\n",
            " [8.18212638e-27 1.00000000e+00 7.53080883e-54 5.53880017e-59\n",
            "  6.15631382e-64 1.71515165e-77 8.37579909e-52 1.39628390e-42\n",
            "  2.04074350e-67 1.75687567e-39]\n",
            " [9.20397520e-28 7.53080883e-54 1.00000000e+00 6.23052945e-60\n",
            "  6.92516310e-65 1.92935339e-78 9.42183529e-53 1.57066291e-43\n",
            "  2.29560772e-68 1.97628823e-40]\n",
            " [6.76938965e-33 5.53880017e-59 6.23052945e-60 1.00000000e+00\n",
            "  5.09335656e-70 1.41901130e-83 6.92962257e-58 1.15519968e-48\n",
            "  1.68838603e-73 1.45353120e-45]\n",
            " [7.52410013e-38 6.15631382e-64 6.92516310e-65 5.09335656e-70\n",
            "  1.00000000e+00 1.57721504e-88 7.70219722e-63 1.28399140e-53\n",
            "  1.87662200e-78 1.61558351e-50]\n",
            " [2.09621750e-51 1.71515165e-77 1.92935339e-78 1.41901130e-83\n",
            "  1.57721504e-88 1.00000000e+00 2.14583542e-76 3.57720550e-67\n",
            "  5.22827689e-92 4.50102253e-64]\n",
            " [1.02367022e-25 8.37579909e-52 9.42183529e-53 6.92962257e-58\n",
            "  7.70219722e-63 2.14583542e-76 1.00000000e+00 1.74689827e-41\n",
            "  2.55318513e-66 2.19803656e-38]\n",
            " [1.70650493e-16 1.39628390e-42 1.57066291e-43 1.15519968e-48\n",
            "  1.28399140e-53 3.57720550e-67 1.74689827e-41 1.00000000e+00\n",
            "  4.25627603e-57 3.66422718e-29]\n",
            " [2.49414810e-41 2.04074350e-67 2.29560772e-68 1.68838603e-73\n",
            "  1.87662200e-78 5.22827689e-92 2.55318513e-66 4.25627603e-57\n",
            "  1.00000000e+00 5.35546372e-54]\n",
            " [2.14721160e-13 1.75687567e-39 1.97628823e-40 1.45353120e-45\n",
            "  1.61558351e-50 4.50102253e-64 2.19803656e-38 3.66422718e-29\n",
            "  5.35546372e-54 1.00000000e+00]]\n",
            "dG matrix:\n",
            "[[1.00000000e+00 8.18212638e-27 9.20397520e-28 6.76938965e-33\n",
            "  7.52410013e-38 2.09621750e-51 1.02367022e-25 1.70650493e-16\n",
            "  2.49414810e-41 2.14721160e-13]\n",
            " [8.18212638e-27 1.00000000e+00 7.53080883e-54 5.53880017e-59\n",
            "  6.15631382e-64 1.71515165e-77 8.37579909e-52 1.39628390e-42\n",
            "  2.04074350e-67 1.75687567e-39]\n",
            " [9.20397520e-28 7.53080883e-54 1.00000000e+00 6.23052945e-60\n",
            "  6.92516310e-65 1.92935339e-78 9.42183529e-53 1.57066291e-43\n",
            "  2.29560772e-68 1.97628823e-40]\n",
            " [6.76938965e-33 5.53880017e-59 6.23052945e-60 1.00000000e+00\n",
            "  5.09335656e-70 1.41901130e-83 6.92962257e-58 1.15519968e-48\n",
            "  1.68838603e-73 1.45353120e-45]\n",
            " [7.52410013e-38 6.15631382e-64 6.92516310e-65 5.09335656e-70\n",
            "  1.00000000e+00 1.57721504e-88 7.70219722e-63 1.28399140e-53\n",
            "  1.87662200e-78 1.61558351e-50]\n",
            " [2.09621750e-51 1.71515165e-77 1.92935339e-78 1.41901130e-83\n",
            "  1.57721504e-88 1.00000000e+00 2.14583542e-76 3.57720550e-67\n",
            "  5.22827689e-92 4.50102253e-64]\n",
            " [1.02367022e-25 8.37579909e-52 9.42183529e-53 6.92962257e-58\n",
            "  7.70219722e-63 2.14583542e-76 1.00000000e+00 1.74689827e-41\n",
            "  2.55318513e-66 2.19803656e-38]\n",
            " [1.70650493e-16 1.39628390e-42 1.57066291e-43 1.15519968e-48\n",
            "  1.28399140e-53 3.57720550e-67 1.74689827e-41 1.00000000e+00\n",
            "  4.25627603e-57 3.66422718e-29]\n",
            " [2.49414810e-41 2.04074350e-67 2.29560772e-68 1.68838603e-73\n",
            "  1.87662200e-78 5.22827689e-92 2.55318513e-66 4.25627603e-57\n",
            "  1.00000000e+00 5.35546372e-54]\n",
            " [2.14721160e-13 1.75687567e-39 1.97628823e-40 1.45353120e-45\n",
            "  1.61558351e-50 4.50102253e-64 2.19803656e-38 3.66422718e-29\n",
            "  5.35546372e-54 1.00000000e+00]]\n",
            "Differences:\n",
            "[[False False False False False False False False False False]\n",
            " [False False False False False False False False False False]\n",
            " [False False False False False False False False False False]\n",
            " [False False False False False False False False False False]\n",
            " [False False False False False False False False False False]\n",
            " [False False False False False False False False False False]\n",
            " [False False False False False False False False False False]\n",
            " [False False False False False False False False False False]\n",
            " [False False False False False False False False False False]\n",
            " [False False False False False False False False False False]]\n"
          ]
        }
      ]
    },
    {
      "cell_type": "code",
      "source": [
        "print('SA:')\n",
        "x = solve_sa(md.F,x0=x0,tol=1e-10)\n",
        "print('SA: Equilibrium found!')\n",
        "ccp = md.ccp(x)\n",
        "shares = md.shares(ccp).squeeze()  # make one-dim array\n",
        "print('Equilibrium choice probabilities:',ccp,'Equilibrium market shares:',shares,sep='\\n')"
      ],
      "metadata": {
        "colab": {
          "base_uri": "https://localhost:8080/"
        },
        "id": "_Ayqt67itR4t",
        "outputId": "10225ad6-fd8c-40d9-bf56-d13f76bad821"
      },
      "execution_count": 175,
      "outputs": [
        {
          "output_type": "stream",
          "name": "stdout",
          "text": [
            "SA:\n",
            "SA: Equilibrium found!\n",
            "Equilibrium choice probabilities:\n",
            "[[1.00000000e+00]\n",
            " [3.01003608e-27]\n",
            " [3.38595325e-28]\n",
            " [2.49031928e-33]\n",
            " [2.76796175e-38]\n",
            " [7.71155322e-52]\n",
            " [3.76587227e-26]\n",
            " [6.27788080e-17]\n",
            " [9.17545809e-42]\n",
            " [7.89915003e-14]]\n",
            "Equilibrium market shares:\n",
            "[1.00000000e+00 3.01003608e-27 3.38595325e-28 2.49031928e-33\n",
            " 2.76796175e-38 7.71155322e-52 3.76587227e-26 6.27788080e-17\n",
            " 9.17545809e-42 7.89915003e-14]\n"
          ]
        }
      ]
    },
    {
      "cell_type": "code",
      "source": [
        "l = []\n",
        "for i in range(len(u_v)):\n",
        "  md = model(u_v[i])\n",
        "  x0 = md.c.reshape(md.m*md.n,order='F')\n",
        "  x = solve_sa(md.F,x0=x0,tol=1e-10)\n",
        "  ccp = md.ccp(x)\n",
        "  l.append(ccp)\n"
      ],
      "metadata": {
        "id": "TYKnxHCvDSSH"
      },
      "execution_count": 176,
      "outputs": []
    },
    {
      "cell_type": "code",
      "source": [
        "ccp = np.array(l).reshape(1,-1)"
      ],
      "metadata": {
        "id": "RebW-GS9EzVQ"
      },
      "execution_count": 177,
      "outputs": []
    },
    {
      "cell_type": "code",
      "source": [
        "merged_conshops['probs'] = ccp[0]"
      ],
      "metadata": {
        "id": "tLXKuWt0E_DV"
      },
      "execution_count": 178,
      "outputs": []
    },
    {
      "cell_type": "code",
      "source": [
        "merged_conshops.head(15)"
      ],
      "metadata": {
        "colab": {
          "base_uri": "https://localhost:8080/",
          "height": 584
        },
        "id": "CfaFdKPxXhzN",
        "outputId": "7fcfc746-a93b-4ff3-a7cf-7db88cb00291"
      },
      "execution_count": 179,
      "outputs": [
        {
          "output_type": "execute_result",
          "data": {
            "text/plain": [
              "    postcode_id  income  population  vehicle  postcode  shop  shopid  size  \\\n",
              "0             0   89934        5252        1         0     0       0   436   \n",
              "1             0   89934        5252        1         0     1       1   651   \n",
              "2             0   89934        5252        1         0     2       2   345   \n",
              "3             0   89934        5252        1         0     3       3   452   \n",
              "4             0   89934        5252        1         0     4       4   402   \n",
              "5             0   89934        5252        1         0     5       5   516   \n",
              "6             0   89934        5252        1         0     6       6   962   \n",
              "7             0   89934        5252        1         0     7       7   126   \n",
              "8             0   89934        5252        1         0     8       8   637   \n",
              "9             0   89934        5252        1         0     9       9   177   \n",
              "10            1   77234        4666        0         1     0       0   436   \n",
              "11            1   77234        4666        0         1     1       1   651   \n",
              "12            1   77234        4666        0         1     2       2   345   \n",
              "13            1   77234        4666        0         1     3       3   452   \n",
              "14            1   77234        4666        0         1     4       4   402   \n",
              "\n",
              "    chain        km  dist*vehicle  log(income)  dist*log(inc)  log(size)  \\\n",
              "0       1  2.413454      2.413454    11.406831      27.529860   6.077642   \n",
              "1       1  6.250837      6.250837    11.406831      71.302244   6.478510   \n",
              "2       3  6.325081      6.325081    11.406831      72.149132   5.843544   \n",
              "3       2  7.099439      7.099439    11.406831      80.982106   6.113682   \n",
              "4       1  7.808731      7.808731    11.406831      89.072874   5.996452   \n",
              "5       2  9.806817      9.806817    11.406831     111.864703   6.246107   \n",
              "6       3  6.130403      6.130403    11.406831      69.928471   6.869014   \n",
              "7       1  4.583652      4.583652    11.406831      52.284943   4.836282   \n",
              "8       2  8.361490      8.361490    11.406831      95.378101   6.456770   \n",
              "9       1  4.166658      4.166658    11.406831      47.528365   5.176150   \n",
              "10      1  5.511771      0.000000    11.254595      62.032755   6.077642   \n",
              "11      1  2.627651      0.000000    11.254595      29.573149   6.478510   \n",
              "12      3  2.202806      0.000000    11.254595      24.791689   5.843544   \n",
              "13      2  9.701187      0.000000    11.254595     109.182935   6.113682   \n",
              "14      1  8.687841      0.000000    11.254595      97.778132   5.996452   \n",
              "\n",
              "    log(size)*log(inc)         probs  \n",
              "0            69.326640  1.000000e+00  \n",
              "1            73.899267  3.010036e-27  \n",
              "2            66.656326  3.385953e-28  \n",
              "3            69.737742  2.490319e-33  \n",
              "4            68.400518  2.767962e-38  \n",
              "5            71.248286  7.711553e-52  \n",
              "6            78.353689  3.765872e-26  \n",
              "7            55.166652  6.277881e-17  \n",
              "8            73.651283  9.175458e-42  \n",
              "9            59.043467  7.899150e-14  \n",
              "10           68.401402  7.361214e-24  \n",
              "11           72.913003  1.161092e-03  \n",
              "12           65.766726  9.988389e-01  \n",
              "13           68.807017  8.927940e-53  \n",
              "14           67.487640  7.429964e-46  "
            ],
            "text/html": [
              "\n",
              "  <div id=\"df-ee7450f8-363e-42c3-853b-aaf66ee2f0ab\">\n",
              "    <div class=\"colab-df-container\">\n",
              "      <div>\n",
              "<style scoped>\n",
              "    .dataframe tbody tr th:only-of-type {\n",
              "        vertical-align: middle;\n",
              "    }\n",
              "\n",
              "    .dataframe tbody tr th {\n",
              "        vertical-align: top;\n",
              "    }\n",
              "\n",
              "    .dataframe thead th {\n",
              "        text-align: right;\n",
              "    }\n",
              "</style>\n",
              "<table border=\"1\" class=\"dataframe\">\n",
              "  <thead>\n",
              "    <tr style=\"text-align: right;\">\n",
              "      <th></th>\n",
              "      <th>postcode_id</th>\n",
              "      <th>income</th>\n",
              "      <th>population</th>\n",
              "      <th>vehicle</th>\n",
              "      <th>postcode</th>\n",
              "      <th>shop</th>\n",
              "      <th>shopid</th>\n",
              "      <th>size</th>\n",
              "      <th>chain</th>\n",
              "      <th>km</th>\n",
              "      <th>dist*vehicle</th>\n",
              "      <th>log(income)</th>\n",
              "      <th>dist*log(inc)</th>\n",
              "      <th>log(size)</th>\n",
              "      <th>log(size)*log(inc)</th>\n",
              "      <th>probs</th>\n",
              "    </tr>\n",
              "  </thead>\n",
              "  <tbody>\n",
              "    <tr>\n",
              "      <th>0</th>\n",
              "      <td>0</td>\n",
              "      <td>89934</td>\n",
              "      <td>5252</td>\n",
              "      <td>1</td>\n",
              "      <td>0</td>\n",
              "      <td>0</td>\n",
              "      <td>0</td>\n",
              "      <td>436</td>\n",
              "      <td>1</td>\n",
              "      <td>2.413454</td>\n",
              "      <td>2.413454</td>\n",
              "      <td>11.406831</td>\n",
              "      <td>27.529860</td>\n",
              "      <td>6.077642</td>\n",
              "      <td>69.326640</td>\n",
              "      <td>1.000000e+00</td>\n",
              "    </tr>\n",
              "    <tr>\n",
              "      <th>1</th>\n",
              "      <td>0</td>\n",
              "      <td>89934</td>\n",
              "      <td>5252</td>\n",
              "      <td>1</td>\n",
              "      <td>0</td>\n",
              "      <td>1</td>\n",
              "      <td>1</td>\n",
              "      <td>651</td>\n",
              "      <td>1</td>\n",
              "      <td>6.250837</td>\n",
              "      <td>6.250837</td>\n",
              "      <td>11.406831</td>\n",
              "      <td>71.302244</td>\n",
              "      <td>6.478510</td>\n",
              "      <td>73.899267</td>\n",
              "      <td>3.010036e-27</td>\n",
              "    </tr>\n",
              "    <tr>\n",
              "      <th>2</th>\n",
              "      <td>0</td>\n",
              "      <td>89934</td>\n",
              "      <td>5252</td>\n",
              "      <td>1</td>\n",
              "      <td>0</td>\n",
              "      <td>2</td>\n",
              "      <td>2</td>\n",
              "      <td>345</td>\n",
              "      <td>3</td>\n",
              "      <td>6.325081</td>\n",
              "      <td>6.325081</td>\n",
              "      <td>11.406831</td>\n",
              "      <td>72.149132</td>\n",
              "      <td>5.843544</td>\n",
              "      <td>66.656326</td>\n",
              "      <td>3.385953e-28</td>\n",
              "    </tr>\n",
              "    <tr>\n",
              "      <th>3</th>\n",
              "      <td>0</td>\n",
              "      <td>89934</td>\n",
              "      <td>5252</td>\n",
              "      <td>1</td>\n",
              "      <td>0</td>\n",
              "      <td>3</td>\n",
              "      <td>3</td>\n",
              "      <td>452</td>\n",
              "      <td>2</td>\n",
              "      <td>7.099439</td>\n",
              "      <td>7.099439</td>\n",
              "      <td>11.406831</td>\n",
              "      <td>80.982106</td>\n",
              "      <td>6.113682</td>\n",
              "      <td>69.737742</td>\n",
              "      <td>2.490319e-33</td>\n",
              "    </tr>\n",
              "    <tr>\n",
              "      <th>4</th>\n",
              "      <td>0</td>\n",
              "      <td>89934</td>\n",
              "      <td>5252</td>\n",
              "      <td>1</td>\n",
              "      <td>0</td>\n",
              "      <td>4</td>\n",
              "      <td>4</td>\n",
              "      <td>402</td>\n",
              "      <td>1</td>\n",
              "      <td>7.808731</td>\n",
              "      <td>7.808731</td>\n",
              "      <td>11.406831</td>\n",
              "      <td>89.072874</td>\n",
              "      <td>5.996452</td>\n",
              "      <td>68.400518</td>\n",
              "      <td>2.767962e-38</td>\n",
              "    </tr>\n",
              "    <tr>\n",
              "      <th>5</th>\n",
              "      <td>0</td>\n",
              "      <td>89934</td>\n",
              "      <td>5252</td>\n",
              "      <td>1</td>\n",
              "      <td>0</td>\n",
              "      <td>5</td>\n",
              "      <td>5</td>\n",
              "      <td>516</td>\n",
              "      <td>2</td>\n",
              "      <td>9.806817</td>\n",
              "      <td>9.806817</td>\n",
              "      <td>11.406831</td>\n",
              "      <td>111.864703</td>\n",
              "      <td>6.246107</td>\n",
              "      <td>71.248286</td>\n",
              "      <td>7.711553e-52</td>\n",
              "    </tr>\n",
              "    <tr>\n",
              "      <th>6</th>\n",
              "      <td>0</td>\n",
              "      <td>89934</td>\n",
              "      <td>5252</td>\n",
              "      <td>1</td>\n",
              "      <td>0</td>\n",
              "      <td>6</td>\n",
              "      <td>6</td>\n",
              "      <td>962</td>\n",
              "      <td>3</td>\n",
              "      <td>6.130403</td>\n",
              "      <td>6.130403</td>\n",
              "      <td>11.406831</td>\n",
              "      <td>69.928471</td>\n",
              "      <td>6.869014</td>\n",
              "      <td>78.353689</td>\n",
              "      <td>3.765872e-26</td>\n",
              "    </tr>\n",
              "    <tr>\n",
              "      <th>7</th>\n",
              "      <td>0</td>\n",
              "      <td>89934</td>\n",
              "      <td>5252</td>\n",
              "      <td>1</td>\n",
              "      <td>0</td>\n",
              "      <td>7</td>\n",
              "      <td>7</td>\n",
              "      <td>126</td>\n",
              "      <td>1</td>\n",
              "      <td>4.583652</td>\n",
              "      <td>4.583652</td>\n",
              "      <td>11.406831</td>\n",
              "      <td>52.284943</td>\n",
              "      <td>4.836282</td>\n",
              "      <td>55.166652</td>\n",
              "      <td>6.277881e-17</td>\n",
              "    </tr>\n",
              "    <tr>\n",
              "      <th>8</th>\n",
              "      <td>0</td>\n",
              "      <td>89934</td>\n",
              "      <td>5252</td>\n",
              "      <td>1</td>\n",
              "      <td>0</td>\n",
              "      <td>8</td>\n",
              "      <td>8</td>\n",
              "      <td>637</td>\n",
              "      <td>2</td>\n",
              "      <td>8.361490</td>\n",
              "      <td>8.361490</td>\n",
              "      <td>11.406831</td>\n",
              "      <td>95.378101</td>\n",
              "      <td>6.456770</td>\n",
              "      <td>73.651283</td>\n",
              "      <td>9.175458e-42</td>\n",
              "    </tr>\n",
              "    <tr>\n",
              "      <th>9</th>\n",
              "      <td>0</td>\n",
              "      <td>89934</td>\n",
              "      <td>5252</td>\n",
              "      <td>1</td>\n",
              "      <td>0</td>\n",
              "      <td>9</td>\n",
              "      <td>9</td>\n",
              "      <td>177</td>\n",
              "      <td>1</td>\n",
              "      <td>4.166658</td>\n",
              "      <td>4.166658</td>\n",
              "      <td>11.406831</td>\n",
              "      <td>47.528365</td>\n",
              "      <td>5.176150</td>\n",
              "      <td>59.043467</td>\n",
              "      <td>7.899150e-14</td>\n",
              "    </tr>\n",
              "    <tr>\n",
              "      <th>10</th>\n",
              "      <td>1</td>\n",
              "      <td>77234</td>\n",
              "      <td>4666</td>\n",
              "      <td>0</td>\n",
              "      <td>1</td>\n",
              "      <td>0</td>\n",
              "      <td>0</td>\n",
              "      <td>436</td>\n",
              "      <td>1</td>\n",
              "      <td>5.511771</td>\n",
              "      <td>0.000000</td>\n",
              "      <td>11.254595</td>\n",
              "      <td>62.032755</td>\n",
              "      <td>6.077642</td>\n",
              "      <td>68.401402</td>\n",
              "      <td>7.361214e-24</td>\n",
              "    </tr>\n",
              "    <tr>\n",
              "      <th>11</th>\n",
              "      <td>1</td>\n",
              "      <td>77234</td>\n",
              "      <td>4666</td>\n",
              "      <td>0</td>\n",
              "      <td>1</td>\n",
              "      <td>1</td>\n",
              "      <td>1</td>\n",
              "      <td>651</td>\n",
              "      <td>1</td>\n",
              "      <td>2.627651</td>\n",
              "      <td>0.000000</td>\n",
              "      <td>11.254595</td>\n",
              "      <td>29.573149</td>\n",
              "      <td>6.478510</td>\n",
              "      <td>72.913003</td>\n",
              "      <td>1.161092e-03</td>\n",
              "    </tr>\n",
              "    <tr>\n",
              "      <th>12</th>\n",
              "      <td>1</td>\n",
              "      <td>77234</td>\n",
              "      <td>4666</td>\n",
              "      <td>0</td>\n",
              "      <td>1</td>\n",
              "      <td>2</td>\n",
              "      <td>2</td>\n",
              "      <td>345</td>\n",
              "      <td>3</td>\n",
              "      <td>2.202806</td>\n",
              "      <td>0.000000</td>\n",
              "      <td>11.254595</td>\n",
              "      <td>24.791689</td>\n",
              "      <td>5.843544</td>\n",
              "      <td>65.766726</td>\n",
              "      <td>9.988389e-01</td>\n",
              "    </tr>\n",
              "    <tr>\n",
              "      <th>13</th>\n",
              "      <td>1</td>\n",
              "      <td>77234</td>\n",
              "      <td>4666</td>\n",
              "      <td>0</td>\n",
              "      <td>1</td>\n",
              "      <td>3</td>\n",
              "      <td>3</td>\n",
              "      <td>452</td>\n",
              "      <td>2</td>\n",
              "      <td>9.701187</td>\n",
              "      <td>0.000000</td>\n",
              "      <td>11.254595</td>\n",
              "      <td>109.182935</td>\n",
              "      <td>6.113682</td>\n",
              "      <td>68.807017</td>\n",
              "      <td>8.927940e-53</td>\n",
              "    </tr>\n",
              "    <tr>\n",
              "      <th>14</th>\n",
              "      <td>1</td>\n",
              "      <td>77234</td>\n",
              "      <td>4666</td>\n",
              "      <td>0</td>\n",
              "      <td>1</td>\n",
              "      <td>4</td>\n",
              "      <td>4</td>\n",
              "      <td>402</td>\n",
              "      <td>1</td>\n",
              "      <td>8.687841</td>\n",
              "      <td>0.000000</td>\n",
              "      <td>11.254595</td>\n",
              "      <td>97.778132</td>\n",
              "      <td>5.996452</td>\n",
              "      <td>67.487640</td>\n",
              "      <td>7.429964e-46</td>\n",
              "    </tr>\n",
              "  </tbody>\n",
              "</table>\n",
              "</div>\n",
              "      <button class=\"colab-df-convert\" onclick=\"convertToInteractive('df-ee7450f8-363e-42c3-853b-aaf66ee2f0ab')\"\n",
              "              title=\"Convert this dataframe to an interactive table.\"\n",
              "              style=\"display:none;\">\n",
              "        \n",
              "  <svg xmlns=\"http://www.w3.org/2000/svg\" height=\"24px\"viewBox=\"0 0 24 24\"\n",
              "       width=\"24px\">\n",
              "    <path d=\"M0 0h24v24H0V0z\" fill=\"none\"/>\n",
              "    <path d=\"M18.56 5.44l.94 2.06.94-2.06 2.06-.94-2.06-.94-.94-2.06-.94 2.06-2.06.94zm-11 1L8.5 8.5l.94-2.06 2.06-.94-2.06-.94L8.5 2.5l-.94 2.06-2.06.94zm10 10l.94 2.06.94-2.06 2.06-.94-2.06-.94-.94-2.06-.94 2.06-2.06.94z\"/><path d=\"M17.41 7.96l-1.37-1.37c-.4-.4-.92-.59-1.43-.59-.52 0-1.04.2-1.43.59L10.3 9.45l-7.72 7.72c-.78.78-.78 2.05 0 2.83L4 21.41c.39.39.9.59 1.41.59.51 0 1.02-.2 1.41-.59l7.78-7.78 2.81-2.81c.8-.78.8-2.07 0-2.86zM5.41 20L4 18.59l7.72-7.72 1.47 1.35L5.41 20z\"/>\n",
              "  </svg>\n",
              "      </button>\n",
              "      \n",
              "  <style>\n",
              "    .colab-df-container {\n",
              "      display:flex;\n",
              "      flex-wrap:wrap;\n",
              "      gap: 12px;\n",
              "    }\n",
              "\n",
              "    .colab-df-convert {\n",
              "      background-color: #E8F0FE;\n",
              "      border: none;\n",
              "      border-radius: 50%;\n",
              "      cursor: pointer;\n",
              "      display: none;\n",
              "      fill: #1967D2;\n",
              "      height: 32px;\n",
              "      padding: 0 0 0 0;\n",
              "      width: 32px;\n",
              "    }\n",
              "\n",
              "    .colab-df-convert:hover {\n",
              "      background-color: #E2EBFA;\n",
              "      box-shadow: 0px 1px 2px rgba(60, 64, 67, 0.3), 0px 1px 3px 1px rgba(60, 64, 67, 0.15);\n",
              "      fill: #174EA6;\n",
              "    }\n",
              "\n",
              "    [theme=dark] .colab-df-convert {\n",
              "      background-color: #3B4455;\n",
              "      fill: #D2E3FC;\n",
              "    }\n",
              "\n",
              "    [theme=dark] .colab-df-convert:hover {\n",
              "      background-color: #434B5C;\n",
              "      box-shadow: 0px 1px 3px 1px rgba(0, 0, 0, 0.15);\n",
              "      filter: drop-shadow(0px 1px 2px rgba(0, 0, 0, 0.3));\n",
              "      fill: #FFFFFF;\n",
              "    }\n",
              "  </style>\n",
              "\n",
              "      <script>\n",
              "        const buttonEl =\n",
              "          document.querySelector('#df-ee7450f8-363e-42c3-853b-aaf66ee2f0ab button.colab-df-convert');\n",
              "        buttonEl.style.display =\n",
              "          google.colab.kernel.accessAllowed ? 'block' : 'none';\n",
              "\n",
              "        async function convertToInteractive(key) {\n",
              "          const element = document.querySelector('#df-ee7450f8-363e-42c3-853b-aaf66ee2f0ab');\n",
              "          const dataTable =\n",
              "            await google.colab.kernel.invokeFunction('convertToInteractive',\n",
              "                                                     [key], {});\n",
              "          if (!dataTable) return;\n",
              "\n",
              "          const docLinkHtml = 'Like what you see? Visit the ' +\n",
              "            '<a target=\"_blank\" href=https://colab.research.google.com/notebooks/data_table.ipynb>data table notebook</a>'\n",
              "            + ' to learn more about interactive tables.';\n",
              "          element.innerHTML = '';\n",
              "          dataTable['output_type'] = 'display_data';\n",
              "          await google.colab.output.renderOutput(dataTable, element);\n",
              "          const docLink = document.createElement('div');\n",
              "          docLink.innerHTML = docLinkHtml;\n",
              "          element.appendChild(docLink);\n",
              "        }\n",
              "      </script>\n",
              "    </div>\n",
              "  </div>\n",
              "  "
            ]
          },
          "metadata": {},
          "execution_count": 179
        }
      ]
    },
    {
      "cell_type": "markdown",
      "source": [
        "Define choice decisions"
      ],
      "metadata": {
        "id": "vlu8AIhiI4NQ"
      }
    },
    {
      "cell_type": "code",
      "source": [
        "#merged_conshops['ch_dec'] = merged_conshops.apply(lambda row: 1 if (row['probs']>0.5) else 0, axis =1)"
      ],
      "metadata": {
        "id": "kWgtrHcsF1GW"
      },
      "execution_count": 180,
      "outputs": []
    },
    {
      "cell_type": "markdown",
      "source": [
        "Define revenues"
      ],
      "metadata": {
        "id": "SX5Uo3F5Y2iU"
      }
    },
    {
      "cell_type": "code",
      "source": [
        "# utility function is defined above/ should be used with .apply\n",
        "def data_revenue(row, alpha = 0.3):\n",
        "  '''This function defines individual contributions of existing individuals'''\n",
        "  revenue  = alpha * row['probs'] * row['income'] * row['population']\n",
        "  return revenue"
      ],
      "metadata": {
        "id": "tTTnYhI5ox85"
      },
      "execution_count": 181,
      "outputs": []
    },
    {
      "cell_type": "code",
      "source": [
        "merged_conshops['rev_0'] = merged_conshops.apply(lambda row: data_revenue(row), axis = 1)"
      ],
      "metadata": {
        "id": "E1AQtX7xqENI"
      },
      "execution_count": 182,
      "outputs": []
    },
    {
      "cell_type": "code",
      "source": [
        "merged_conshops.head() #see the result"
      ],
      "metadata": {
        "colab": {
          "base_uri": "https://localhost:8080/",
          "height": 270
        },
        "id": "WUB5gnCLqi4U",
        "outputId": "4b18bdd8-c2f4-4185-a268-cf3a5e0ff414"
      },
      "execution_count": 183,
      "outputs": [
        {
          "output_type": "execute_result",
          "data": {
            "text/plain": [
              "   postcode_id  income  population  vehicle  postcode  shop  shopid  size  \\\n",
              "0            0   89934        5252        1         0     0       0   436   \n",
              "1            0   89934        5252        1         0     1       1   651   \n",
              "2            0   89934        5252        1         0     2       2   345   \n",
              "3            0   89934        5252        1         0     3       3   452   \n",
              "4            0   89934        5252        1         0     4       4   402   \n",
              "\n",
              "   chain        km  dist*vehicle  log(income)  dist*log(inc)  log(size)  \\\n",
              "0      1  2.413454      2.413454    11.406831      27.529860   6.077642   \n",
              "1      1  6.250837      6.250837    11.406831      71.302244   6.478510   \n",
              "2      3  6.325081      6.325081    11.406831      72.149132   5.843544   \n",
              "3      2  7.099439      7.099439    11.406831      80.982106   6.113682   \n",
              "4      1  7.808731      7.808731    11.406831      89.072874   5.996452   \n",
              "\n",
              "   log(size)*log(inc)         probs         rev_0  \n",
              "0           69.326640  1.000000e+00  1.417000e+08  \n",
              "1           73.899267  3.010036e-27  4.265221e-19  \n",
              "2           66.656326  3.385953e-28  4.797896e-20  \n",
              "3           69.737742  2.490319e-33  3.528783e-25  \n",
              "4           68.400518  2.767962e-38  3.922202e-30  "
            ],
            "text/html": [
              "\n",
              "  <div id=\"df-762aa1aa-28ec-4975-b2be-1def59f74b5e\">\n",
              "    <div class=\"colab-df-container\">\n",
              "      <div>\n",
              "<style scoped>\n",
              "    .dataframe tbody tr th:only-of-type {\n",
              "        vertical-align: middle;\n",
              "    }\n",
              "\n",
              "    .dataframe tbody tr th {\n",
              "        vertical-align: top;\n",
              "    }\n",
              "\n",
              "    .dataframe thead th {\n",
              "        text-align: right;\n",
              "    }\n",
              "</style>\n",
              "<table border=\"1\" class=\"dataframe\">\n",
              "  <thead>\n",
              "    <tr style=\"text-align: right;\">\n",
              "      <th></th>\n",
              "      <th>postcode_id</th>\n",
              "      <th>income</th>\n",
              "      <th>population</th>\n",
              "      <th>vehicle</th>\n",
              "      <th>postcode</th>\n",
              "      <th>shop</th>\n",
              "      <th>shopid</th>\n",
              "      <th>size</th>\n",
              "      <th>chain</th>\n",
              "      <th>km</th>\n",
              "      <th>dist*vehicle</th>\n",
              "      <th>log(income)</th>\n",
              "      <th>dist*log(inc)</th>\n",
              "      <th>log(size)</th>\n",
              "      <th>log(size)*log(inc)</th>\n",
              "      <th>probs</th>\n",
              "      <th>rev_0</th>\n",
              "    </tr>\n",
              "  </thead>\n",
              "  <tbody>\n",
              "    <tr>\n",
              "      <th>0</th>\n",
              "      <td>0</td>\n",
              "      <td>89934</td>\n",
              "      <td>5252</td>\n",
              "      <td>1</td>\n",
              "      <td>0</td>\n",
              "      <td>0</td>\n",
              "      <td>0</td>\n",
              "      <td>436</td>\n",
              "      <td>1</td>\n",
              "      <td>2.413454</td>\n",
              "      <td>2.413454</td>\n",
              "      <td>11.406831</td>\n",
              "      <td>27.529860</td>\n",
              "      <td>6.077642</td>\n",
              "      <td>69.326640</td>\n",
              "      <td>1.000000e+00</td>\n",
              "      <td>1.417000e+08</td>\n",
              "    </tr>\n",
              "    <tr>\n",
              "      <th>1</th>\n",
              "      <td>0</td>\n",
              "      <td>89934</td>\n",
              "      <td>5252</td>\n",
              "      <td>1</td>\n",
              "      <td>0</td>\n",
              "      <td>1</td>\n",
              "      <td>1</td>\n",
              "      <td>651</td>\n",
              "      <td>1</td>\n",
              "      <td>6.250837</td>\n",
              "      <td>6.250837</td>\n",
              "      <td>11.406831</td>\n",
              "      <td>71.302244</td>\n",
              "      <td>6.478510</td>\n",
              "      <td>73.899267</td>\n",
              "      <td>3.010036e-27</td>\n",
              "      <td>4.265221e-19</td>\n",
              "    </tr>\n",
              "    <tr>\n",
              "      <th>2</th>\n",
              "      <td>0</td>\n",
              "      <td>89934</td>\n",
              "      <td>5252</td>\n",
              "      <td>1</td>\n",
              "      <td>0</td>\n",
              "      <td>2</td>\n",
              "      <td>2</td>\n",
              "      <td>345</td>\n",
              "      <td>3</td>\n",
              "      <td>6.325081</td>\n",
              "      <td>6.325081</td>\n",
              "      <td>11.406831</td>\n",
              "      <td>72.149132</td>\n",
              "      <td>5.843544</td>\n",
              "      <td>66.656326</td>\n",
              "      <td>3.385953e-28</td>\n",
              "      <td>4.797896e-20</td>\n",
              "    </tr>\n",
              "    <tr>\n",
              "      <th>3</th>\n",
              "      <td>0</td>\n",
              "      <td>89934</td>\n",
              "      <td>5252</td>\n",
              "      <td>1</td>\n",
              "      <td>0</td>\n",
              "      <td>3</td>\n",
              "      <td>3</td>\n",
              "      <td>452</td>\n",
              "      <td>2</td>\n",
              "      <td>7.099439</td>\n",
              "      <td>7.099439</td>\n",
              "      <td>11.406831</td>\n",
              "      <td>80.982106</td>\n",
              "      <td>6.113682</td>\n",
              "      <td>69.737742</td>\n",
              "      <td>2.490319e-33</td>\n",
              "      <td>3.528783e-25</td>\n",
              "    </tr>\n",
              "    <tr>\n",
              "      <th>4</th>\n",
              "      <td>0</td>\n",
              "      <td>89934</td>\n",
              "      <td>5252</td>\n",
              "      <td>1</td>\n",
              "      <td>0</td>\n",
              "      <td>4</td>\n",
              "      <td>4</td>\n",
              "      <td>402</td>\n",
              "      <td>1</td>\n",
              "      <td>7.808731</td>\n",
              "      <td>7.808731</td>\n",
              "      <td>11.406831</td>\n",
              "      <td>89.072874</td>\n",
              "      <td>5.996452</td>\n",
              "      <td>68.400518</td>\n",
              "      <td>2.767962e-38</td>\n",
              "      <td>3.922202e-30</td>\n",
              "    </tr>\n",
              "  </tbody>\n",
              "</table>\n",
              "</div>\n",
              "      <button class=\"colab-df-convert\" onclick=\"convertToInteractive('df-762aa1aa-28ec-4975-b2be-1def59f74b5e')\"\n",
              "              title=\"Convert this dataframe to an interactive table.\"\n",
              "              style=\"display:none;\">\n",
              "        \n",
              "  <svg xmlns=\"http://www.w3.org/2000/svg\" height=\"24px\"viewBox=\"0 0 24 24\"\n",
              "       width=\"24px\">\n",
              "    <path d=\"M0 0h24v24H0V0z\" fill=\"none\"/>\n",
              "    <path d=\"M18.56 5.44l.94 2.06.94-2.06 2.06-.94-2.06-.94-.94-2.06-.94 2.06-2.06.94zm-11 1L8.5 8.5l.94-2.06 2.06-.94-2.06-.94L8.5 2.5l-.94 2.06-2.06.94zm10 10l.94 2.06.94-2.06 2.06-.94-2.06-.94-.94-2.06-.94 2.06-2.06.94z\"/><path d=\"M17.41 7.96l-1.37-1.37c-.4-.4-.92-.59-1.43-.59-.52 0-1.04.2-1.43.59L10.3 9.45l-7.72 7.72c-.78.78-.78 2.05 0 2.83L4 21.41c.39.39.9.59 1.41.59.51 0 1.02-.2 1.41-.59l7.78-7.78 2.81-2.81c.8-.78.8-2.07 0-2.86zM5.41 20L4 18.59l7.72-7.72 1.47 1.35L5.41 20z\"/>\n",
              "  </svg>\n",
              "      </button>\n",
              "      \n",
              "  <style>\n",
              "    .colab-df-container {\n",
              "      display:flex;\n",
              "      flex-wrap:wrap;\n",
              "      gap: 12px;\n",
              "    }\n",
              "\n",
              "    .colab-df-convert {\n",
              "      background-color: #E8F0FE;\n",
              "      border: none;\n",
              "      border-radius: 50%;\n",
              "      cursor: pointer;\n",
              "      display: none;\n",
              "      fill: #1967D2;\n",
              "      height: 32px;\n",
              "      padding: 0 0 0 0;\n",
              "      width: 32px;\n",
              "    }\n",
              "\n",
              "    .colab-df-convert:hover {\n",
              "      background-color: #E2EBFA;\n",
              "      box-shadow: 0px 1px 2px rgba(60, 64, 67, 0.3), 0px 1px 3px 1px rgba(60, 64, 67, 0.15);\n",
              "      fill: #174EA6;\n",
              "    }\n",
              "\n",
              "    [theme=dark] .colab-df-convert {\n",
              "      background-color: #3B4455;\n",
              "      fill: #D2E3FC;\n",
              "    }\n",
              "\n",
              "    [theme=dark] .colab-df-convert:hover {\n",
              "      background-color: #434B5C;\n",
              "      box-shadow: 0px 1px 3px 1px rgba(0, 0, 0, 0.15);\n",
              "      filter: drop-shadow(0px 1px 2px rgba(0, 0, 0, 0.3));\n",
              "      fill: #FFFFFF;\n",
              "    }\n",
              "  </style>\n",
              "\n",
              "      <script>\n",
              "        const buttonEl =\n",
              "          document.querySelector('#df-762aa1aa-28ec-4975-b2be-1def59f74b5e button.colab-df-convert');\n",
              "        buttonEl.style.display =\n",
              "          google.colab.kernel.accessAllowed ? 'block' : 'none';\n",
              "\n",
              "        async function convertToInteractive(key) {\n",
              "          const element = document.querySelector('#df-762aa1aa-28ec-4975-b2be-1def59f74b5e');\n",
              "          const dataTable =\n",
              "            await google.colab.kernel.invokeFunction('convertToInteractive',\n",
              "                                                     [key], {});\n",
              "          if (!dataTable) return;\n",
              "\n",
              "          const docLinkHtml = 'Like what you see? Visit the ' +\n",
              "            '<a target=\"_blank\" href=https://colab.research.google.com/notebooks/data_table.ipynb>data table notebook</a>'\n",
              "            + ' to learn more about interactive tables.';\n",
              "          element.innerHTML = '';\n",
              "          dataTable['output_type'] = 'display_data';\n",
              "          await google.colab.output.renderOutput(dataTable, element);\n",
              "          const docLink = document.createElement('div');\n",
              "          docLink.innerHTML = docLinkHtml;\n",
              "          element.appendChild(docLink);\n",
              "        }\n",
              "      </script>\n",
              "    </div>\n",
              "  </div>\n",
              "  "
            ]
          },
          "metadata": {},
          "execution_count": 183
        }
      ]
    },
    {
      "cell_type": "code",
      "source": [
        " store_rev = pd.DataFrame(merged_conshops.groupby('shopid')['rev_0'].sum()).reset_index()"
      ],
      "metadata": {
        "id": "nK_4gjmqYN_w"
      },
      "execution_count": 184,
      "outputs": []
    },
    {
      "cell_type": "code",
      "source": [
        "store_rev"
      ],
      "metadata": {
        "colab": {
          "base_uri": "https://localhost:8080/",
          "height": 363
        },
        "id": "aerF824VXAiO",
        "outputId": "2aab95fb-4d6c-4c85-aa46-57cbfb34d099"
      },
      "execution_count": 185,
      "outputs": [
        {
          "output_type": "execute_result",
          "data": {
            "text/plain": [
              "   shopid         rev_0\n",
              "0       0  2.115564e+09\n",
              "1       1  9.888719e+08\n",
              "2       2  8.977697e+08\n",
              "3       3  1.029940e+09\n",
              "4       4  1.873242e+09\n",
              "5       5  9.737298e+08\n",
              "6       6  1.781080e+09\n",
              "7       7  1.268828e+09\n",
              "8       8  9.076908e+08\n",
              "9       9  9.831095e+08"
            ],
            "text/html": [
              "\n",
              "  <div id=\"df-6a9b1d2f-c084-4407-90a0-3c97e5d95fc0\">\n",
              "    <div class=\"colab-df-container\">\n",
              "      <div>\n",
              "<style scoped>\n",
              "    .dataframe tbody tr th:only-of-type {\n",
              "        vertical-align: middle;\n",
              "    }\n",
              "\n",
              "    .dataframe tbody tr th {\n",
              "        vertical-align: top;\n",
              "    }\n",
              "\n",
              "    .dataframe thead th {\n",
              "        text-align: right;\n",
              "    }\n",
              "</style>\n",
              "<table border=\"1\" class=\"dataframe\">\n",
              "  <thead>\n",
              "    <tr style=\"text-align: right;\">\n",
              "      <th></th>\n",
              "      <th>shopid</th>\n",
              "      <th>rev_0</th>\n",
              "    </tr>\n",
              "  </thead>\n",
              "  <tbody>\n",
              "    <tr>\n",
              "      <th>0</th>\n",
              "      <td>0</td>\n",
              "      <td>2.115564e+09</td>\n",
              "    </tr>\n",
              "    <tr>\n",
              "      <th>1</th>\n",
              "      <td>1</td>\n",
              "      <td>9.888719e+08</td>\n",
              "    </tr>\n",
              "    <tr>\n",
              "      <th>2</th>\n",
              "      <td>2</td>\n",
              "      <td>8.977697e+08</td>\n",
              "    </tr>\n",
              "    <tr>\n",
              "      <th>3</th>\n",
              "      <td>3</td>\n",
              "      <td>1.029940e+09</td>\n",
              "    </tr>\n",
              "    <tr>\n",
              "      <th>4</th>\n",
              "      <td>4</td>\n",
              "      <td>1.873242e+09</td>\n",
              "    </tr>\n",
              "    <tr>\n",
              "      <th>5</th>\n",
              "      <td>5</td>\n",
              "      <td>9.737298e+08</td>\n",
              "    </tr>\n",
              "    <tr>\n",
              "      <th>6</th>\n",
              "      <td>6</td>\n",
              "      <td>1.781080e+09</td>\n",
              "    </tr>\n",
              "    <tr>\n",
              "      <th>7</th>\n",
              "      <td>7</td>\n",
              "      <td>1.268828e+09</td>\n",
              "    </tr>\n",
              "    <tr>\n",
              "      <th>8</th>\n",
              "      <td>8</td>\n",
              "      <td>9.076908e+08</td>\n",
              "    </tr>\n",
              "    <tr>\n",
              "      <th>9</th>\n",
              "      <td>9</td>\n",
              "      <td>9.831095e+08</td>\n",
              "    </tr>\n",
              "  </tbody>\n",
              "</table>\n",
              "</div>\n",
              "      <button class=\"colab-df-convert\" onclick=\"convertToInteractive('df-6a9b1d2f-c084-4407-90a0-3c97e5d95fc0')\"\n",
              "              title=\"Convert this dataframe to an interactive table.\"\n",
              "              style=\"display:none;\">\n",
              "        \n",
              "  <svg xmlns=\"http://www.w3.org/2000/svg\" height=\"24px\"viewBox=\"0 0 24 24\"\n",
              "       width=\"24px\">\n",
              "    <path d=\"M0 0h24v24H0V0z\" fill=\"none\"/>\n",
              "    <path d=\"M18.56 5.44l.94 2.06.94-2.06 2.06-.94-2.06-.94-.94-2.06-.94 2.06-2.06.94zm-11 1L8.5 8.5l.94-2.06 2.06-.94-2.06-.94L8.5 2.5l-.94 2.06-2.06.94zm10 10l.94 2.06.94-2.06 2.06-.94-2.06-.94-.94-2.06-.94 2.06-2.06.94z\"/><path d=\"M17.41 7.96l-1.37-1.37c-.4-.4-.92-.59-1.43-.59-.52 0-1.04.2-1.43.59L10.3 9.45l-7.72 7.72c-.78.78-.78 2.05 0 2.83L4 21.41c.39.39.9.59 1.41.59.51 0 1.02-.2 1.41-.59l7.78-7.78 2.81-2.81c.8-.78.8-2.07 0-2.86zM5.41 20L4 18.59l7.72-7.72 1.47 1.35L5.41 20z\"/>\n",
              "  </svg>\n",
              "      </button>\n",
              "      \n",
              "  <style>\n",
              "    .colab-df-container {\n",
              "      display:flex;\n",
              "      flex-wrap:wrap;\n",
              "      gap: 12px;\n",
              "    }\n",
              "\n",
              "    .colab-df-convert {\n",
              "      background-color: #E8F0FE;\n",
              "      border: none;\n",
              "      border-radius: 50%;\n",
              "      cursor: pointer;\n",
              "      display: none;\n",
              "      fill: #1967D2;\n",
              "      height: 32px;\n",
              "      padding: 0 0 0 0;\n",
              "      width: 32px;\n",
              "    }\n",
              "\n",
              "    .colab-df-convert:hover {\n",
              "      background-color: #E2EBFA;\n",
              "      box-shadow: 0px 1px 2px rgba(60, 64, 67, 0.3), 0px 1px 3px 1px rgba(60, 64, 67, 0.15);\n",
              "      fill: #174EA6;\n",
              "    }\n",
              "\n",
              "    [theme=dark] .colab-df-convert {\n",
              "      background-color: #3B4455;\n",
              "      fill: #D2E3FC;\n",
              "    }\n",
              "\n",
              "    [theme=dark] .colab-df-convert:hover {\n",
              "      background-color: #434B5C;\n",
              "      box-shadow: 0px 1px 3px 1px rgba(0, 0, 0, 0.15);\n",
              "      filter: drop-shadow(0px 1px 2px rgba(0, 0, 0, 0.3));\n",
              "      fill: #FFFFFF;\n",
              "    }\n",
              "  </style>\n",
              "\n",
              "      <script>\n",
              "        const buttonEl =\n",
              "          document.querySelector('#df-6a9b1d2f-c084-4407-90a0-3c97e5d95fc0 button.colab-df-convert');\n",
              "        buttonEl.style.display =\n",
              "          google.colab.kernel.accessAllowed ? 'block' : 'none';\n",
              "\n",
              "        async function convertToInteractive(key) {\n",
              "          const element = document.querySelector('#df-6a9b1d2f-c084-4407-90a0-3c97e5d95fc0');\n",
              "          const dataTable =\n",
              "            await google.colab.kernel.invokeFunction('convertToInteractive',\n",
              "                                                     [key], {});\n",
              "          if (!dataTable) return;\n",
              "\n",
              "          const docLinkHtml = 'Like what you see? Visit the ' +\n",
              "            '<a target=\"_blank\" href=https://colab.research.google.com/notebooks/data_table.ipynb>data table notebook</a>'\n",
              "            + ' to learn more about interactive tables.';\n",
              "          element.innerHTML = '';\n",
              "          dataTable['output_type'] = 'display_data';\n",
              "          await google.colab.output.renderOutput(dataTable, element);\n",
              "          const docLink = document.createElement('div');\n",
              "          docLink.innerHTML = docLinkHtml;\n",
              "          element.appendChild(docLink);\n",
              "        }\n",
              "      </script>\n",
              "    </div>\n",
              "  </div>\n",
              "  "
            ]
          },
          "metadata": {},
          "execution_count": 185
        }
      ]
    },
    {
      "cell_type": "markdown",
      "source": [
        "Generate Random (almost random) Revenues"
      ],
      "metadata": {
        "id": "CSZG-VDewQX-"
      }
    },
    {
      "cell_type": "code",
      "source": [
        "revs = list(store_rev['rev_0'])"
      ],
      "metadata": {
        "id": "0ybItBDvwUXv"
      },
      "execution_count": 186,
      "outputs": []
    },
    {
      "cell_type": "code",
      "source": [
        "store_rev['fict_rev'] = revs"
      ],
      "metadata": {
        "id": "pPYaCPvownG2"
      },
      "execution_count": 187,
      "outputs": []
    },
    {
      "cell_type": "code",
      "source": [
        "store_rev"
      ],
      "metadata": {
        "colab": {
          "base_uri": "https://localhost:8080/",
          "height": 363
        },
        "id": "AGLBBZnCxyqU",
        "outputId": "03af7d21-f5ac-4e68-c798-9ed7de12db2f"
      },
      "execution_count": 188,
      "outputs": [
        {
          "output_type": "execute_result",
          "data": {
            "text/plain": [
              "   shopid         rev_0      fict_rev\n",
              "0       0  2.115564e+09  2.115564e+09\n",
              "1       1  9.888719e+08  9.888719e+08\n",
              "2       2  8.977697e+08  8.977697e+08\n",
              "3       3  1.029940e+09  1.029940e+09\n",
              "4       4  1.873242e+09  1.873242e+09\n",
              "5       5  9.737298e+08  9.737298e+08\n",
              "6       6  1.781080e+09  1.781080e+09\n",
              "7       7  1.268828e+09  1.268828e+09\n",
              "8       8  9.076908e+08  9.076908e+08\n",
              "9       9  9.831095e+08  9.831095e+08"
            ],
            "text/html": [
              "\n",
              "  <div id=\"df-401ac259-8a2a-45c1-8e2e-1c97fed86348\">\n",
              "    <div class=\"colab-df-container\">\n",
              "      <div>\n",
              "<style scoped>\n",
              "    .dataframe tbody tr th:only-of-type {\n",
              "        vertical-align: middle;\n",
              "    }\n",
              "\n",
              "    .dataframe tbody tr th {\n",
              "        vertical-align: top;\n",
              "    }\n",
              "\n",
              "    .dataframe thead th {\n",
              "        text-align: right;\n",
              "    }\n",
              "</style>\n",
              "<table border=\"1\" class=\"dataframe\">\n",
              "  <thead>\n",
              "    <tr style=\"text-align: right;\">\n",
              "      <th></th>\n",
              "      <th>shopid</th>\n",
              "      <th>rev_0</th>\n",
              "      <th>fict_rev</th>\n",
              "    </tr>\n",
              "  </thead>\n",
              "  <tbody>\n",
              "    <tr>\n",
              "      <th>0</th>\n",
              "      <td>0</td>\n",
              "      <td>2.115564e+09</td>\n",
              "      <td>2.115564e+09</td>\n",
              "    </tr>\n",
              "    <tr>\n",
              "      <th>1</th>\n",
              "      <td>1</td>\n",
              "      <td>9.888719e+08</td>\n",
              "      <td>9.888719e+08</td>\n",
              "    </tr>\n",
              "    <tr>\n",
              "      <th>2</th>\n",
              "      <td>2</td>\n",
              "      <td>8.977697e+08</td>\n",
              "      <td>8.977697e+08</td>\n",
              "    </tr>\n",
              "    <tr>\n",
              "      <th>3</th>\n",
              "      <td>3</td>\n",
              "      <td>1.029940e+09</td>\n",
              "      <td>1.029940e+09</td>\n",
              "    </tr>\n",
              "    <tr>\n",
              "      <th>4</th>\n",
              "      <td>4</td>\n",
              "      <td>1.873242e+09</td>\n",
              "      <td>1.873242e+09</td>\n",
              "    </tr>\n",
              "    <tr>\n",
              "      <th>5</th>\n",
              "      <td>5</td>\n",
              "      <td>9.737298e+08</td>\n",
              "      <td>9.737298e+08</td>\n",
              "    </tr>\n",
              "    <tr>\n",
              "      <th>6</th>\n",
              "      <td>6</td>\n",
              "      <td>1.781080e+09</td>\n",
              "      <td>1.781080e+09</td>\n",
              "    </tr>\n",
              "    <tr>\n",
              "      <th>7</th>\n",
              "      <td>7</td>\n",
              "      <td>1.268828e+09</td>\n",
              "      <td>1.268828e+09</td>\n",
              "    </tr>\n",
              "    <tr>\n",
              "      <th>8</th>\n",
              "      <td>8</td>\n",
              "      <td>9.076908e+08</td>\n",
              "      <td>9.076908e+08</td>\n",
              "    </tr>\n",
              "    <tr>\n",
              "      <th>9</th>\n",
              "      <td>9</td>\n",
              "      <td>9.831095e+08</td>\n",
              "      <td>9.831095e+08</td>\n",
              "    </tr>\n",
              "  </tbody>\n",
              "</table>\n",
              "</div>\n",
              "      <button class=\"colab-df-convert\" onclick=\"convertToInteractive('df-401ac259-8a2a-45c1-8e2e-1c97fed86348')\"\n",
              "              title=\"Convert this dataframe to an interactive table.\"\n",
              "              style=\"display:none;\">\n",
              "        \n",
              "  <svg xmlns=\"http://www.w3.org/2000/svg\" height=\"24px\"viewBox=\"0 0 24 24\"\n",
              "       width=\"24px\">\n",
              "    <path d=\"M0 0h24v24H0V0z\" fill=\"none\"/>\n",
              "    <path d=\"M18.56 5.44l.94 2.06.94-2.06 2.06-.94-2.06-.94-.94-2.06-.94 2.06-2.06.94zm-11 1L8.5 8.5l.94-2.06 2.06-.94-2.06-.94L8.5 2.5l-.94 2.06-2.06.94zm10 10l.94 2.06.94-2.06 2.06-.94-2.06-.94-.94-2.06-.94 2.06-2.06.94z\"/><path d=\"M17.41 7.96l-1.37-1.37c-.4-.4-.92-.59-1.43-.59-.52 0-1.04.2-1.43.59L10.3 9.45l-7.72 7.72c-.78.78-.78 2.05 0 2.83L4 21.41c.39.39.9.59 1.41.59.51 0 1.02-.2 1.41-.59l7.78-7.78 2.81-2.81c.8-.78.8-2.07 0-2.86zM5.41 20L4 18.59l7.72-7.72 1.47 1.35L5.41 20z\"/>\n",
              "  </svg>\n",
              "      </button>\n",
              "      \n",
              "  <style>\n",
              "    .colab-df-container {\n",
              "      display:flex;\n",
              "      flex-wrap:wrap;\n",
              "      gap: 12px;\n",
              "    }\n",
              "\n",
              "    .colab-df-convert {\n",
              "      background-color: #E8F0FE;\n",
              "      border: none;\n",
              "      border-radius: 50%;\n",
              "      cursor: pointer;\n",
              "      display: none;\n",
              "      fill: #1967D2;\n",
              "      height: 32px;\n",
              "      padding: 0 0 0 0;\n",
              "      width: 32px;\n",
              "    }\n",
              "\n",
              "    .colab-df-convert:hover {\n",
              "      background-color: #E2EBFA;\n",
              "      box-shadow: 0px 1px 2px rgba(60, 64, 67, 0.3), 0px 1px 3px 1px rgba(60, 64, 67, 0.15);\n",
              "      fill: #174EA6;\n",
              "    }\n",
              "\n",
              "    [theme=dark] .colab-df-convert {\n",
              "      background-color: #3B4455;\n",
              "      fill: #D2E3FC;\n",
              "    }\n",
              "\n",
              "    [theme=dark] .colab-df-convert:hover {\n",
              "      background-color: #434B5C;\n",
              "      box-shadow: 0px 1px 3px 1px rgba(0, 0, 0, 0.15);\n",
              "      filter: drop-shadow(0px 1px 2px rgba(0, 0, 0, 0.3));\n",
              "      fill: #FFFFFF;\n",
              "    }\n",
              "  </style>\n",
              "\n",
              "      <script>\n",
              "        const buttonEl =\n",
              "          document.querySelector('#df-401ac259-8a2a-45c1-8e2e-1c97fed86348 button.colab-df-convert');\n",
              "        buttonEl.style.display =\n",
              "          google.colab.kernel.accessAllowed ? 'block' : 'none';\n",
              "\n",
              "        async function convertToInteractive(key) {\n",
              "          const element = document.querySelector('#df-401ac259-8a2a-45c1-8e2e-1c97fed86348');\n",
              "          const dataTable =\n",
              "            await google.colab.kernel.invokeFunction('convertToInteractive',\n",
              "                                                     [key], {});\n",
              "          if (!dataTable) return;\n",
              "\n",
              "          const docLinkHtml = 'Like what you see? Visit the ' +\n",
              "            '<a target=\"_blank\" href=https://colab.research.google.com/notebooks/data_table.ipynb>data table notebook</a>'\n",
              "            + ' to learn more about interactive tables.';\n",
              "          element.innerHTML = '';\n",
              "          dataTable['output_type'] = 'display_data';\n",
              "          await google.colab.output.renderOutput(dataTable, element);\n",
              "          const docLink = document.createElement('div');\n",
              "          docLink.innerHTML = docLinkHtml;\n",
              "          element.appendChild(docLink);\n",
              "        }\n",
              "      </script>\n",
              "    </div>\n",
              "  </div>\n",
              "  "
            ]
          },
          "metadata": {},
          "execution_count": 188
        }
      ]
    },
    {
      "cell_type": "code",
      "source": [
        "#now join the datasets \n",
        "data_w_rev = merger(merged_conshops, store_rev, 'shopid', 'shopid', 'left')"
      ],
      "metadata": {
        "id": "8gK36Xgmxh1G"
      },
      "execution_count": 189,
      "outputs": []
    },
    {
      "cell_type": "code",
      "source": [
        "est_data"
      ],
      "metadata": {
        "colab": {
          "base_uri": "https://localhost:8080/",
          "height": 423
        },
        "id": "vTr5OXsMqLOy",
        "outputId": "408b1f6f-1a4e-4e7a-9a2c-fbf0f4eb947e"
      },
      "execution_count": 190,
      "outputs": [
        {
          "output_type": "execute_result",
          "data": {
            "text/plain": [
              "           km  vehicle  dist*vehicle  dist*log(inc)  log(size)  \\\n",
              "0    2.413454        1      2.413454      27.529860   6.077642   \n",
              "1    6.250837        1      6.250837      71.302244   6.478510   \n",
              "2    6.325081        1      6.325081      72.149132   5.843544   \n",
              "3    7.099439        1      7.099439      80.982106   6.113682   \n",
              "4    7.808731        1      7.808731      89.072874   5.996452   \n",
              "..        ...      ...           ...            ...        ...   \n",
              "995  3.601202        1      3.601202      40.439127   6.246107   \n",
              "996  3.339861        1      3.339861      37.504436   6.869014   \n",
              "997  2.836543        1      2.836543      31.852507   4.836282   \n",
              "998  7.091442        1      7.091442      79.632225   6.456770   \n",
              "999  7.651806        1      7.651806      85.924742   5.176150   \n",
              "\n",
              "     log(size)*log(inc)  \n",
              "0             69.326640  \n",
              "1             73.899267  \n",
              "2             66.656326  \n",
              "3             69.737742  \n",
              "4             68.400518  \n",
              "..                  ...  \n",
              "995           70.139667  \n",
              "996           77.134510  \n",
              "997           54.308262  \n",
              "998           72.505272  \n",
              "999           58.124754  \n",
              "\n",
              "[1000 rows x 6 columns]"
            ],
            "text/html": [
              "\n",
              "  <div id=\"df-8d48c349-5bf6-4656-9963-b20cffb7bcba\">\n",
              "    <div class=\"colab-df-container\">\n",
              "      <div>\n",
              "<style scoped>\n",
              "    .dataframe tbody tr th:only-of-type {\n",
              "        vertical-align: middle;\n",
              "    }\n",
              "\n",
              "    .dataframe tbody tr th {\n",
              "        vertical-align: top;\n",
              "    }\n",
              "\n",
              "    .dataframe thead th {\n",
              "        text-align: right;\n",
              "    }\n",
              "</style>\n",
              "<table border=\"1\" class=\"dataframe\">\n",
              "  <thead>\n",
              "    <tr style=\"text-align: right;\">\n",
              "      <th></th>\n",
              "      <th>km</th>\n",
              "      <th>vehicle</th>\n",
              "      <th>dist*vehicle</th>\n",
              "      <th>dist*log(inc)</th>\n",
              "      <th>log(size)</th>\n",
              "      <th>log(size)*log(inc)</th>\n",
              "    </tr>\n",
              "  </thead>\n",
              "  <tbody>\n",
              "    <tr>\n",
              "      <th>0</th>\n",
              "      <td>2.413454</td>\n",
              "      <td>1</td>\n",
              "      <td>2.413454</td>\n",
              "      <td>27.529860</td>\n",
              "      <td>6.077642</td>\n",
              "      <td>69.326640</td>\n",
              "    </tr>\n",
              "    <tr>\n",
              "      <th>1</th>\n",
              "      <td>6.250837</td>\n",
              "      <td>1</td>\n",
              "      <td>6.250837</td>\n",
              "      <td>71.302244</td>\n",
              "      <td>6.478510</td>\n",
              "      <td>73.899267</td>\n",
              "    </tr>\n",
              "    <tr>\n",
              "      <th>2</th>\n",
              "      <td>6.325081</td>\n",
              "      <td>1</td>\n",
              "      <td>6.325081</td>\n",
              "      <td>72.149132</td>\n",
              "      <td>5.843544</td>\n",
              "      <td>66.656326</td>\n",
              "    </tr>\n",
              "    <tr>\n",
              "      <th>3</th>\n",
              "      <td>7.099439</td>\n",
              "      <td>1</td>\n",
              "      <td>7.099439</td>\n",
              "      <td>80.982106</td>\n",
              "      <td>6.113682</td>\n",
              "      <td>69.737742</td>\n",
              "    </tr>\n",
              "    <tr>\n",
              "      <th>4</th>\n",
              "      <td>7.808731</td>\n",
              "      <td>1</td>\n",
              "      <td>7.808731</td>\n",
              "      <td>89.072874</td>\n",
              "      <td>5.996452</td>\n",
              "      <td>68.400518</td>\n",
              "    </tr>\n",
              "    <tr>\n",
              "      <th>...</th>\n",
              "      <td>...</td>\n",
              "      <td>...</td>\n",
              "      <td>...</td>\n",
              "      <td>...</td>\n",
              "      <td>...</td>\n",
              "      <td>...</td>\n",
              "    </tr>\n",
              "    <tr>\n",
              "      <th>995</th>\n",
              "      <td>3.601202</td>\n",
              "      <td>1</td>\n",
              "      <td>3.601202</td>\n",
              "      <td>40.439127</td>\n",
              "      <td>6.246107</td>\n",
              "      <td>70.139667</td>\n",
              "    </tr>\n",
              "    <tr>\n",
              "      <th>996</th>\n",
              "      <td>3.339861</td>\n",
              "      <td>1</td>\n",
              "      <td>3.339861</td>\n",
              "      <td>37.504436</td>\n",
              "      <td>6.869014</td>\n",
              "      <td>77.134510</td>\n",
              "    </tr>\n",
              "    <tr>\n",
              "      <th>997</th>\n",
              "      <td>2.836543</td>\n",
              "      <td>1</td>\n",
              "      <td>2.836543</td>\n",
              "      <td>31.852507</td>\n",
              "      <td>4.836282</td>\n",
              "      <td>54.308262</td>\n",
              "    </tr>\n",
              "    <tr>\n",
              "      <th>998</th>\n",
              "      <td>7.091442</td>\n",
              "      <td>1</td>\n",
              "      <td>7.091442</td>\n",
              "      <td>79.632225</td>\n",
              "      <td>6.456770</td>\n",
              "      <td>72.505272</td>\n",
              "    </tr>\n",
              "    <tr>\n",
              "      <th>999</th>\n",
              "      <td>7.651806</td>\n",
              "      <td>1</td>\n",
              "      <td>7.651806</td>\n",
              "      <td>85.924742</td>\n",
              "      <td>5.176150</td>\n",
              "      <td>58.124754</td>\n",
              "    </tr>\n",
              "  </tbody>\n",
              "</table>\n",
              "<p>1000 rows × 6 columns</p>\n",
              "</div>\n",
              "      <button class=\"colab-df-convert\" onclick=\"convertToInteractive('df-8d48c349-5bf6-4656-9963-b20cffb7bcba')\"\n",
              "              title=\"Convert this dataframe to an interactive table.\"\n",
              "              style=\"display:none;\">\n",
              "        \n",
              "  <svg xmlns=\"http://www.w3.org/2000/svg\" height=\"24px\"viewBox=\"0 0 24 24\"\n",
              "       width=\"24px\">\n",
              "    <path d=\"M0 0h24v24H0V0z\" fill=\"none\"/>\n",
              "    <path d=\"M18.56 5.44l.94 2.06.94-2.06 2.06-.94-2.06-.94-.94-2.06-.94 2.06-2.06.94zm-11 1L8.5 8.5l.94-2.06 2.06-.94-2.06-.94L8.5 2.5l-.94 2.06-2.06.94zm10 10l.94 2.06.94-2.06 2.06-.94-2.06-.94-.94-2.06-.94 2.06-2.06.94z\"/><path d=\"M17.41 7.96l-1.37-1.37c-.4-.4-.92-.59-1.43-.59-.52 0-1.04.2-1.43.59L10.3 9.45l-7.72 7.72c-.78.78-.78 2.05 0 2.83L4 21.41c.39.39.9.59 1.41.59.51 0 1.02-.2 1.41-.59l7.78-7.78 2.81-2.81c.8-.78.8-2.07 0-2.86zM5.41 20L4 18.59l7.72-7.72 1.47 1.35L5.41 20z\"/>\n",
              "  </svg>\n",
              "      </button>\n",
              "      \n",
              "  <style>\n",
              "    .colab-df-container {\n",
              "      display:flex;\n",
              "      flex-wrap:wrap;\n",
              "      gap: 12px;\n",
              "    }\n",
              "\n",
              "    .colab-df-convert {\n",
              "      background-color: #E8F0FE;\n",
              "      border: none;\n",
              "      border-radius: 50%;\n",
              "      cursor: pointer;\n",
              "      display: none;\n",
              "      fill: #1967D2;\n",
              "      height: 32px;\n",
              "      padding: 0 0 0 0;\n",
              "      width: 32px;\n",
              "    }\n",
              "\n",
              "    .colab-df-convert:hover {\n",
              "      background-color: #E2EBFA;\n",
              "      box-shadow: 0px 1px 2px rgba(60, 64, 67, 0.3), 0px 1px 3px 1px rgba(60, 64, 67, 0.15);\n",
              "      fill: #174EA6;\n",
              "    }\n",
              "\n",
              "    [theme=dark] .colab-df-convert {\n",
              "      background-color: #3B4455;\n",
              "      fill: #D2E3FC;\n",
              "    }\n",
              "\n",
              "    [theme=dark] .colab-df-convert:hover {\n",
              "      background-color: #434B5C;\n",
              "      box-shadow: 0px 1px 3px 1px rgba(0, 0, 0, 0.15);\n",
              "      filter: drop-shadow(0px 1px 2px rgba(0, 0, 0, 0.3));\n",
              "      fill: #FFFFFF;\n",
              "    }\n",
              "  </style>\n",
              "\n",
              "      <script>\n",
              "        const buttonEl =\n",
              "          document.querySelector('#df-8d48c349-5bf6-4656-9963-b20cffb7bcba button.colab-df-convert');\n",
              "        buttonEl.style.display =\n",
              "          google.colab.kernel.accessAllowed ? 'block' : 'none';\n",
              "\n",
              "        async function convertToInteractive(key) {\n",
              "          const element = document.querySelector('#df-8d48c349-5bf6-4656-9963-b20cffb7bcba');\n",
              "          const dataTable =\n",
              "            await google.colab.kernel.invokeFunction('convertToInteractive',\n",
              "                                                     [key], {});\n",
              "          if (!dataTable) return;\n",
              "\n",
              "          const docLinkHtml = 'Like what you see? Visit the ' +\n",
              "            '<a target=\"_blank\" href=https://colab.research.google.com/notebooks/data_table.ipynb>data table notebook</a>'\n",
              "            + ' to learn more about interactive tables.';\n",
              "          element.innerHTML = '';\n",
              "          dataTable['output_type'] = 'display_data';\n",
              "          await google.colab.output.renderOutput(dataTable, element);\n",
              "          const docLink = document.createElement('div');\n",
              "          docLink.innerHTML = docLinkHtml;\n",
              "          element.appendChild(docLink);\n",
              "        }\n",
              "      </script>\n",
              "    </div>\n",
              "  </div>\n",
              "  "
            ]
          },
          "metadata": {},
          "execution_count": 190
        }
      ]
    },
    {
      "cell_type": "markdown",
      "source": [
        "# GMM\n",
        "Follow the [QuantEcon](https://notes.quantecon.org/submission/5b3b1856b9eab00015b89f90) for details"
      ],
      "metadata": {
        "id": "nL1KG0hcTV_K"
      }
    },
    {
      "cell_type": "code",
      "source": [
        "import numpy as np\n",
        "import numpy.linalg as lin\n",
        "import scipy.stats as sts\n",
        "import scipy.integrate as intgr\n",
        "import scipy.optimize as opt\n",
        "import matplotlib\n",
        "import matplotlib.pyplot as plt\n",
        "from mpl_toolkits.mplot3d import Axes3D\n",
        "from matplotlib import cm\n",
        "from matplotlib.pyplot import figure"
      ],
      "metadata": {
        "id": "ntqor-XYzZX8"
      },
      "execution_count": 191,
      "outputs": []
    },
    {
      "cell_type": "code",
      "source": [
        "def data_preparate(): #write this function\n",
        "  pass \n"
      ],
      "metadata": {
        "id": "8FjGnobRcLbA"
      },
      "execution_count": 192,
      "outputs": []
    },
    {
      "cell_type": "code",
      "source": [
        "def err_vec(params = [-0.150, 1.4, 0.3, -1.4, 0.154, 0.126], revs = [1.8e9, 1.2e9, 9.1e8, 0.7e9, 1.5e9, 9.3e9, 1.4e9, 1.3e9, 8.7e8, 9.2e8], simple = False):\n",
        "  'define error vectors'\n",
        "  global u, data_moms, fict_moms, store_rev, merged_conshops\n",
        "  u = util(est_data, params)\n",
        "  u_v = u.reshape(100,-1)\n",
        "  l = []\n",
        "  for i in range(len(u_v)):\n",
        "    md = model(u_v[i])\n",
        "    x0 = md.c.reshape(md.m*md.n,order='F')\n",
        "    x = solve_sa(md.F,x0=x0,tol=1e-10)\n",
        "    ccp = md.ccp(x)\n",
        "    l.append(ccp)\n",
        "  merged_conshops['probs'] = np.array(l).reshape(1,-1)[0]\n",
        "  merged_conshops['rev_0'] = merged_conshops.apply(lambda row: data_revenue(row), axis = 1)\n",
        "  store_rev = pd.DataFrame(merged_conshops.groupby('shopid')['rev_0'].sum()).reset_index()\n",
        "  store_rev['fict_rev'] = revs\n",
        "  data_moms, fict_moms = store_rev['rev_0'], store_rev['fict_rev']\n",
        "  if simple:\n",
        "      err_vec = fict_moms - data_moms\n",
        "  else:\n",
        "      err_vec = (fict_moms - data_moms) ** 2 #define errors \n",
        "    \n",
        "  return err_vec"
      ],
      "metadata": {
        "id": "pYyJjZthTVoe"
      },
      "execution_count": 128,
      "outputs": []
    },
    {
      "cell_type": "code",
      "source": [
        "#revs = [1.8e9, 1.2e9, 9.1e8, 0.7e9, 1.5e9, 9.3e9, 1.4e9, 1.3e9, 8.7e8, 9.2e8]"
      ],
      "metadata": {
        "id": "Wp5nT_vEk1Jt"
      },
      "execution_count": 67,
      "outputs": []
    },
    {
      "cell_type": "code",
      "source": [
        "def criterion(params, *args):\n",
        "    revs, W = args \n",
        "    err = err_vec( params, revs, simple=False)\n",
        "    crit_val = np.dot(np.dot(err.T, W), err) \n",
        "    return crit_val"
      ],
      "metadata": {
        "id": "r8V5o__4TYHT"
      },
      "execution_count": 129,
      "outputs": []
    },
    {
      "cell_type": "code",
      "source": [
        "W_hat = np.eye(store_rev.shape[0])\n",
        "gmm_args = (revs, W_hat)\n",
        "params_init = [-0.150, 1.4, 0.3, -1.4, 0.154, 0.126]\n",
        "results = opt.minimize(criterion, list(np.zeros(6)) , args=(gmm_args),\n",
        "                       method='BFGS')"
      ],
      "metadata": {
        "id": "N_22Gzxty64d"
      },
      "execution_count": 131,
      "outputs": []
    },
    {
      "cell_type": "code",
      "source": [
        "results.x"
      ],
      "metadata": {
        "colab": {
          "base_uri": "https://localhost:8080/"
        },
        "id": "5ZM2XOMkvczd",
        "outputId": "5048efe1-16b4-487c-fdf4-89ddc990f772"
      },
      "execution_count": 132,
      "outputs": [
        {
          "output_type": "execute_result",
          "data": {
            "text/plain": [
              "array([ 4.35472746,  0.        , -6.93710038, -0.56723707, 64.03949365,\n",
              "       -5.60670541])"
            ]
          },
          "metadata": {},
          "execution_count": 132
        }
      ]
    },
    {
      "cell_type": "code",
      "source": [
        "results = opt.minimize(criterion, params_init, args=(gmm_args),\n",
        "                       method='Nelder-Mead')\n",
        "results.x "
      ],
      "metadata": {
        "colab": {
          "base_uri": "https://localhost:8080/"
        },
        "id": "d0b_reNMxJ_T",
        "outputId": "589d93f2-54a8-4939-d84f-6588d90bf01d"
      },
      "execution_count": null,
      "outputs": [
        {
          "output_type": "execute_result",
          "data": {
            "text/plain": [
              "array([-0.15 ,  1.4  ,  0.3  , -1.4  ,  0.154,  0.126])"
            ]
          },
          "metadata": {},
          "execution_count": 282
        }
      ]
    },
    {
      "cell_type": "markdown",
      "source": [
        "Try other simulations "
      ],
      "metadata": {
        "id": "_Ii4IKjngDrP"
      }
    },
    {
      "cell_type": "code",
      "source": [
        "# this is the process checker line of code (i mean the one to check the revenue vals on the last iteration)\n",
        "store_rev"
      ],
      "metadata": {
        "colab": {
          "base_uri": "https://localhost:8080/",
          "height": 363
        },
        "id": "hxsErBTG4ZM2",
        "outputId": "a6b05313-c4a3-4268-9825-cd7e12482844"
      },
      "execution_count": 133,
      "outputs": [
        {
          "output_type": "execute_result",
          "data": {
            "text/plain": [
              "   shopid         rev_0      fict_rev\n",
              "0       0  1.009047e+09  2.115564e+09\n",
              "1       1  1.579279e+09  9.888719e+08\n",
              "2       2  2.494972e+08  8.977697e+08\n",
              "3       3  9.165043e+08  1.029940e+09\n",
              "4       4  1.090868e+09  1.873242e+09\n",
              "5       5  1.115648e+09  9.737298e+08\n",
              "6       6  2.211031e+09  1.781080e+09\n",
              "7       7  2.761745e+09  1.268828e+09\n",
              "8       8  1.283557e+09  9.076908e+08\n",
              "9       9  6.026483e+08  9.831095e+08"
            ],
            "text/html": [
              "\n",
              "  <div id=\"df-2e8766a8-2cf0-4f51-b425-d7fa290b3d9b\">\n",
              "    <div class=\"colab-df-container\">\n",
              "      <div>\n",
              "<style scoped>\n",
              "    .dataframe tbody tr th:only-of-type {\n",
              "        vertical-align: middle;\n",
              "    }\n",
              "\n",
              "    .dataframe tbody tr th {\n",
              "        vertical-align: top;\n",
              "    }\n",
              "\n",
              "    .dataframe thead th {\n",
              "        text-align: right;\n",
              "    }\n",
              "</style>\n",
              "<table border=\"1\" class=\"dataframe\">\n",
              "  <thead>\n",
              "    <tr style=\"text-align: right;\">\n",
              "      <th></th>\n",
              "      <th>shopid</th>\n",
              "      <th>rev_0</th>\n",
              "      <th>fict_rev</th>\n",
              "    </tr>\n",
              "  </thead>\n",
              "  <tbody>\n",
              "    <tr>\n",
              "      <th>0</th>\n",
              "      <td>0</td>\n",
              "      <td>1.009047e+09</td>\n",
              "      <td>2.115564e+09</td>\n",
              "    </tr>\n",
              "    <tr>\n",
              "      <th>1</th>\n",
              "      <td>1</td>\n",
              "      <td>1.579279e+09</td>\n",
              "      <td>9.888719e+08</td>\n",
              "    </tr>\n",
              "    <tr>\n",
              "      <th>2</th>\n",
              "      <td>2</td>\n",
              "      <td>2.494972e+08</td>\n",
              "      <td>8.977697e+08</td>\n",
              "    </tr>\n",
              "    <tr>\n",
              "      <th>3</th>\n",
              "      <td>3</td>\n",
              "      <td>9.165043e+08</td>\n",
              "      <td>1.029940e+09</td>\n",
              "    </tr>\n",
              "    <tr>\n",
              "      <th>4</th>\n",
              "      <td>4</td>\n",
              "      <td>1.090868e+09</td>\n",
              "      <td>1.873242e+09</td>\n",
              "    </tr>\n",
              "    <tr>\n",
              "      <th>5</th>\n",
              "      <td>5</td>\n",
              "      <td>1.115648e+09</td>\n",
              "      <td>9.737298e+08</td>\n",
              "    </tr>\n",
              "    <tr>\n",
              "      <th>6</th>\n",
              "      <td>6</td>\n",
              "      <td>2.211031e+09</td>\n",
              "      <td>1.781080e+09</td>\n",
              "    </tr>\n",
              "    <tr>\n",
              "      <th>7</th>\n",
              "      <td>7</td>\n",
              "      <td>2.761745e+09</td>\n",
              "      <td>1.268828e+09</td>\n",
              "    </tr>\n",
              "    <tr>\n",
              "      <th>8</th>\n",
              "      <td>8</td>\n",
              "      <td>1.283557e+09</td>\n",
              "      <td>9.076908e+08</td>\n",
              "    </tr>\n",
              "    <tr>\n",
              "      <th>9</th>\n",
              "      <td>9</td>\n",
              "      <td>6.026483e+08</td>\n",
              "      <td>9.831095e+08</td>\n",
              "    </tr>\n",
              "  </tbody>\n",
              "</table>\n",
              "</div>\n",
              "      <button class=\"colab-df-convert\" onclick=\"convertToInteractive('df-2e8766a8-2cf0-4f51-b425-d7fa290b3d9b')\"\n",
              "              title=\"Convert this dataframe to an interactive table.\"\n",
              "              style=\"display:none;\">\n",
              "        \n",
              "  <svg xmlns=\"http://www.w3.org/2000/svg\" height=\"24px\"viewBox=\"0 0 24 24\"\n",
              "       width=\"24px\">\n",
              "    <path d=\"M0 0h24v24H0V0z\" fill=\"none\"/>\n",
              "    <path d=\"M18.56 5.44l.94 2.06.94-2.06 2.06-.94-2.06-.94-.94-2.06-.94 2.06-2.06.94zm-11 1L8.5 8.5l.94-2.06 2.06-.94-2.06-.94L8.5 2.5l-.94 2.06-2.06.94zm10 10l.94 2.06.94-2.06 2.06-.94-2.06-.94-.94-2.06-.94 2.06-2.06.94z\"/><path d=\"M17.41 7.96l-1.37-1.37c-.4-.4-.92-.59-1.43-.59-.52 0-1.04.2-1.43.59L10.3 9.45l-7.72 7.72c-.78.78-.78 2.05 0 2.83L4 21.41c.39.39.9.59 1.41.59.51 0 1.02-.2 1.41-.59l7.78-7.78 2.81-2.81c.8-.78.8-2.07 0-2.86zM5.41 20L4 18.59l7.72-7.72 1.47 1.35L5.41 20z\"/>\n",
              "  </svg>\n",
              "      </button>\n",
              "      \n",
              "  <style>\n",
              "    .colab-df-container {\n",
              "      display:flex;\n",
              "      flex-wrap:wrap;\n",
              "      gap: 12px;\n",
              "    }\n",
              "\n",
              "    .colab-df-convert {\n",
              "      background-color: #E8F0FE;\n",
              "      border: none;\n",
              "      border-radius: 50%;\n",
              "      cursor: pointer;\n",
              "      display: none;\n",
              "      fill: #1967D2;\n",
              "      height: 32px;\n",
              "      padding: 0 0 0 0;\n",
              "      width: 32px;\n",
              "    }\n",
              "\n",
              "    .colab-df-convert:hover {\n",
              "      background-color: #E2EBFA;\n",
              "      box-shadow: 0px 1px 2px rgba(60, 64, 67, 0.3), 0px 1px 3px 1px rgba(60, 64, 67, 0.15);\n",
              "      fill: #174EA6;\n",
              "    }\n",
              "\n",
              "    [theme=dark] .colab-df-convert {\n",
              "      background-color: #3B4455;\n",
              "      fill: #D2E3FC;\n",
              "    }\n",
              "\n",
              "    [theme=dark] .colab-df-convert:hover {\n",
              "      background-color: #434B5C;\n",
              "      box-shadow: 0px 1px 3px 1px rgba(0, 0, 0, 0.15);\n",
              "      filter: drop-shadow(0px 1px 2px rgba(0, 0, 0, 0.3));\n",
              "      fill: #FFFFFF;\n",
              "    }\n",
              "  </style>\n",
              "\n",
              "      <script>\n",
              "        const buttonEl =\n",
              "          document.querySelector('#df-2e8766a8-2cf0-4f51-b425-d7fa290b3d9b button.colab-df-convert');\n",
              "        buttonEl.style.display =\n",
              "          google.colab.kernel.accessAllowed ? 'block' : 'none';\n",
              "\n",
              "        async function convertToInteractive(key) {\n",
              "          const element = document.querySelector('#df-2e8766a8-2cf0-4f51-b425-d7fa290b3d9b');\n",
              "          const dataTable =\n",
              "            await google.colab.kernel.invokeFunction('convertToInteractive',\n",
              "                                                     [key], {});\n",
              "          if (!dataTable) return;\n",
              "\n",
              "          const docLinkHtml = 'Like what you see? Visit the ' +\n",
              "            '<a target=\"_blank\" href=https://colab.research.google.com/notebooks/data_table.ipynb>data table notebook</a>'\n",
              "            + ' to learn more about interactive tables.';\n",
              "          element.innerHTML = '';\n",
              "          dataTable['output_type'] = 'display_data';\n",
              "          await google.colab.output.renderOutput(dataTable, element);\n",
              "          const docLink = document.createElement('div');\n",
              "          docLink.innerHTML = docLinkHtml;\n",
              "          element.appendChild(docLink);\n",
              "        }\n",
              "      </script>\n",
              "    </div>\n",
              "  </div>\n",
              "  "
            ]
          },
          "metadata": {},
          "execution_count": 133
        }
      ]
    },
    {
      "cell_type": "code",
      "source": [
        "def gmm_opt(init_params=[-0.150, 1.4, 0.3, -1.4, 0.154, 0.126]):\n",
        "  results = opt.minimize(criterion, init_params, args=(gmm_args), method='BFGS')\n",
        "  return results.x"
      ],
      "metadata": {
        "id": "kUlYjhVIgCjz"
      },
      "execution_count": 134,
      "outputs": []
    },
    {
      "cell_type": "code",
      "source": [
        "R, M, D= [], [], []\n",
        "init_params =list(np.zeros(6))"
      ],
      "metadata": {
        "id": "yD3iQT1vSxfU"
      },
      "execution_count": 135,
      "outputs": []
    },
    {
      "cell_type": "code",
      "source": [
        "k = 0\n",
        "while k < 20:\n",
        "  r = gmm_opt(init_params) \n",
        "  R.append(list(r))\n",
        "  d = data_moms[0]-fict_moms[0]\n",
        "  D.append(d)\n",
        "  if abs(d) > 100:\n",
        "    init_params = list(r)\n",
        "    M.append(init_params)\n",
        "  else: \n",
        "    break\n",
        "  k+=1"
      ],
      "metadata": {
        "id": "Rvoj1VPSS0D2"
      },
      "execution_count": 140,
      "outputs": []
    },
    {
      "cell_type": "code",
      "source": [
        "for i in range(len(R[0])):\n",
        "  figure(figsize=(8, 5), dpi=80)\n",
        "  plt.plot(np.asarray(R)[:,i])\n",
        "  plt.show()"
      ],
      "metadata": {
        "colab": {
          "base_uri": "https://localhost:8080/",
          "height": 1000
        },
        "id": "sMkfV6Z7WP7r",
        "outputId": "84ca8c7a-2514-4750-d623-8bd7083a8c53"
      },
      "execution_count": 141,
      "outputs": [
        {
          "output_type": "display_data",
          "data": {
            "text/plain": [
              "<Figure size 640x400 with 1 Axes>"
            ],
            "image/png": "[encoded data removed]"
          },
          "metadata": {
            "needs_background": "light"
          }
        },
        {
          "output_type": "display_data",
          "data": {
            "text/plain": [
              "<Figure size 640x400 with 1 Axes>"
            ],
            "image/png": "[encoded data removed]"
          },
          "metadata": {
            "needs_background": "light"
          }
        },
        {
          "output_type": "display_data",
          "data": {
            "text/plain": [
              "<Figure size 640x400 with 1 Axes>"
            ],
            "image/png": "[encoded data removed]"
          },
          "metadata": {
            "needs_background": "light"
          }
        },
        {
          "output_type": "display_data",
          "data": {
            "text/plain": [
              "<Figure size 640x400 with 1 Axes>"
            ],
            "image/png": "[encoded data removed]"
          },
          "metadata": {
            "needs_background": "light"
          }
        },
        {
          "output_type": "display_data",
          "data": {
            "text/plain": [
              "<Figure size 640x400 with 1 Axes>"
            ],
            "image/png": "[encoded data removed]"
          },
          "metadata": {
            "needs_background": "light"
          }
        },
        {
          "output_type": "display_data",
          "data": {
            "text/plain": [
              "<Figure size 640x400 with 1 Axes>"
            ],
            "image/png": "[encoded data removed]"
          },
          "metadata": {
            "needs_background": "light"
          }
        }
      ]
    },
    {
      "cell_type": "markdown",
      "source": [
        "Not ideal, but still close enough \n",
        "\n"
      ],
      "metadata": {
        "id": "hXoNlT7-Z3N9"
      }
    },
    {
      "cell_type": "code",
      "source": [
        "R[-1] # and this is the final estimation result (it is not jumping) "
      ],
      "metadata": {
        "colab": {
          "base_uri": "https://localhost:8080/"
        },
        "id": "7W1MveoJZr96",
        "outputId": "6947bcd3-794b-45a4-c89a-d16cc9ae7413"
      },
      "execution_count": 142,
      "outputs": [
        {
          "output_type": "execute_result",
          "data": {
            "text/plain": [
              "[-0.18176087352845843,\n",
              " 0.0,\n",
              " 0.2979049163774473,\n",
              " -1.3971630106032906,\n",
              " 0.1691866379136578,\n",
              " 0.12467095800816419]"
            ]
          },
          "metadata": {},
          "execution_count": 142
        }
      ]
    },
    {
      "cell_type": "markdown",
      "source": [
        "Let's check the model convergence to other generated values"
      ],
      "metadata": {
        "id": "dZAIw8JdbaCT"
      }
    },
    {
      "cell_type": "code",
      "source": [
        "# let's generate some data \n",
        "cons, shops, merged_conshops = data_gen(seed_m=10)\n",
        "est_data = util_sum()"
      ],
      "metadata": {
        "id": "lzfsVSKrbmFg"
      },
      "execution_count": 209,
      "outputs": []
    },
    {
      "cell_type": "markdown",
      "source": [
        "yes, there are thousands of repetitions, but... i will fix this either way"
      ],
      "metadata": {
        "id": "W4U0l2ZCdcjV"
      }
    },
    {
      "cell_type": "code",
      "source": [
        "params = [-0.150, 1.4, 0.3, -1.4, 0.154, 0.126]#[118.10406005,   1.4,  -0.36093365,  -9.39329557, 26.44946197,  -2.00253653]#[-0.150, 1.4, 0.3, -1.4, 0.154, 0.126]\n",
        "u1 = util(est_data, params)"
      ],
      "metadata": {
        "id": "iTKdeuHkdWpY"
      },
      "execution_count": 210,
      "outputs": []
    },
    {
      "cell_type": "code",
      "source": [
        "u_v1 = u.reshape(100,-1) #array of 100 preference arrays "
      ],
      "metadata": {
        "id": "5La9vvxmdWpZ"
      },
      "execution_count": 211,
      "outputs": []
    },
    {
      "cell_type": "code",
      "source": [
        "m = []\n",
        "for i in range(len(u_v1)):\n",
        "  md = model(u_v1[i])\n",
        "  x0 = md.c.reshape(md.m*md.n,order='F')\n",
        "  x = solve_sa(md.F,x0=x0,tol=1e-10)\n",
        "  ccp1 = md.ccp(x)\n",
        "  m.append(ccp1)\n"
      ],
      "metadata": {
        "id": "M18EQURhdBBc"
      },
      "execution_count": 200,
      "outputs": []
    },
    {
      "cell_type": "code",
      "source": [
        "ccp1 = np.array(m).reshape(1,-1)\n",
        "merged_conshops['probs'] = ccp1[0]\n",
        "merged_conshops['rev_0'] = merged_conshops.apply(lambda row: data_revenue(row), axis = 1)\n",
        "store_rev1 = pd.DataFrame(merged_conshops.groupby('shopid')['rev_0'].sum()).reset_index()"
      ],
      "metadata": {
        "id": "DYDQw6_UdBBh"
      },
      "execution_count": 212,
      "outputs": []
    },
    {
      "cell_type": "code",
      "source": [
        "#add a column with one of the previous rev_calcs\n",
        "revs = store_rev['rev_0']\n",
        "store_rev1['rev_former'] = revs"
      ],
      "metadata": {
        "id": "jZV4uzxGeBSF"
      },
      "execution_count": 213,
      "outputs": []
    },
    {
      "cell_type": "code",
      "source": [
        "store_rev1"
      ],
      "metadata": {
        "colab": {
          "base_uri": "https://localhost:8080/",
          "height": 363
        },
        "id": "OY7QZqGKhtpK",
        "outputId": "f9d1de11-6575-460b-97e2-4444970cc33f"
      },
      "execution_count": 214,
      "outputs": [
        {
          "output_type": "execute_result",
          "data": {
            "text/plain": [
              "   shopid         rev_0    rev_former\n",
              "0       0  2.293018e+09  2.115564e+09\n",
              "1       1  9.491089e+08  9.888719e+08\n",
              "2       2  1.028592e+09  8.977697e+08\n",
              "3       3  1.108600e+09  1.029940e+09\n",
              "4       4  1.442325e+09  1.873242e+09\n",
              "5       5  1.008742e+09  9.737298e+08\n",
              "6       6  2.213383e+09  1.781080e+09\n",
              "7       7  1.240522e+09  1.268828e+09\n",
              "8       8  9.801388e+08  9.076908e+08\n",
              "9       9  1.087179e+09  9.831095e+08"
            ],
            "text/html": [
              "\n",
              "  <div id=\"df-abe7077c-67e3-4912-b1b9-99039c08d6cd\">\n",
              "    <div class=\"colab-df-container\">\n",
              "      <div>\n",
              "<style scoped>\n",
              "    .dataframe tbody tr th:only-of-type {\n",
              "        vertical-align: middle;\n",
              "    }\n",
              "\n",
              "    .dataframe tbody tr th {\n",
              "        vertical-align: top;\n",
              "    }\n",
              "\n",
              "    .dataframe thead th {\n",
              "        text-align: right;\n",
              "    }\n",
              "</style>\n",
              "<table border=\"1\" class=\"dataframe\">\n",
              "  <thead>\n",
              "    <tr style=\"text-align: right;\">\n",
              "      <th></th>\n",
              "      <th>shopid</th>\n",
              "      <th>rev_0</th>\n",
              "      <th>rev_former</th>\n",
              "    </tr>\n",
              "  </thead>\n",
              "  <tbody>\n",
              "    <tr>\n",
              "      <th>0</th>\n",
              "      <td>0</td>\n",
              "      <td>2.293018e+09</td>\n",
              "      <td>2.115564e+09</td>\n",
              "    </tr>\n",
              "    <tr>\n",
              "      <th>1</th>\n",
              "      <td>1</td>\n",
              "      <td>9.491089e+08</td>\n",
              "      <td>9.888719e+08</td>\n",
              "    </tr>\n",
              "    <tr>\n",
              "      <th>2</th>\n",
              "      <td>2</td>\n",
              "      <td>1.028592e+09</td>\n",
              "      <td>8.977697e+08</td>\n",
              "    </tr>\n",
              "    <tr>\n",
              "      <th>3</th>\n",
              "      <td>3</td>\n",
              "      <td>1.108600e+09</td>\n",
              "      <td>1.029940e+09</td>\n",
              "    </tr>\n",
              "    <tr>\n",
              "      <th>4</th>\n",
              "      <td>4</td>\n",
              "      <td>1.442325e+09</td>\n",
              "      <td>1.873242e+09</td>\n",
              "    </tr>\n",
              "    <tr>\n",
              "      <th>5</th>\n",
              "      <td>5</td>\n",
              "      <td>1.008742e+09</td>\n",
              "      <td>9.737298e+08</td>\n",
              "    </tr>\n",
              "    <tr>\n",
              "      <th>6</th>\n",
              "      <td>6</td>\n",
              "      <td>2.213383e+09</td>\n",
              "      <td>1.781080e+09</td>\n",
              "    </tr>\n",
              "    <tr>\n",
              "      <th>7</th>\n",
              "      <td>7</td>\n",
              "      <td>1.240522e+09</td>\n",
              "      <td>1.268828e+09</td>\n",
              "    </tr>\n",
              "    <tr>\n",
              "      <th>8</th>\n",
              "      <td>8</td>\n",
              "      <td>9.801388e+08</td>\n",
              "      <td>9.076908e+08</td>\n",
              "    </tr>\n",
              "    <tr>\n",
              "      <th>9</th>\n",
              "      <td>9</td>\n",
              "      <td>1.087179e+09</td>\n",
              "      <td>9.831095e+08</td>\n",
              "    </tr>\n",
              "  </tbody>\n",
              "</table>\n",
              "</div>\n",
              "      <button class=\"colab-df-convert\" onclick=\"convertToInteractive('df-abe7077c-67e3-4912-b1b9-99039c08d6cd')\"\n",
              "              title=\"Convert this dataframe to an interactive table.\"\n",
              "              style=\"display:none;\">\n",
              "        \n",
              "  <svg xmlns=\"http://www.w3.org/2000/svg\" height=\"24px\"viewBox=\"0 0 24 24\"\n",
              "       width=\"24px\">\n",
              "    <path d=\"M0 0h24v24H0V0z\" fill=\"none\"/>\n",
              "    <path d=\"M18.56 5.44l.94 2.06.94-2.06 2.06-.94-2.06-.94-.94-2.06-.94 2.06-2.06.94zm-11 1L8.5 8.5l.94-2.06 2.06-.94-2.06-.94L8.5 2.5l-.94 2.06-2.06.94zm10 10l.94 2.06.94-2.06 2.06-.94-2.06-.94-.94-2.06-.94 2.06-2.06.94z\"/><path d=\"M17.41 7.96l-1.37-1.37c-.4-.4-.92-.59-1.43-.59-.52 0-1.04.2-1.43.59L10.3 9.45l-7.72 7.72c-.78.78-.78 2.05 0 2.83L4 21.41c.39.39.9.59 1.41.59.51 0 1.02-.2 1.41-.59l7.78-7.78 2.81-2.81c.8-.78.8-2.07 0-2.86zM5.41 20L4 18.59l7.72-7.72 1.47 1.35L5.41 20z\"/>\n",
              "  </svg>\n",
              "      </button>\n",
              "      \n",
              "  <style>\n",
              "    .colab-df-container {\n",
              "      display:flex;\n",
              "      flex-wrap:wrap;\n",
              "      gap: 12px;\n",
              "    }\n",
              "\n",
              "    .colab-df-convert {\n",
              "      background-color: #E8F0FE;\n",
              "      border: none;\n",
              "      border-radius: 50%;\n",
              "      cursor: pointer;\n",
              "      display: none;\n",
              "      fill: #1967D2;\n",
              "      height: 32px;\n",
              "      padding: 0 0 0 0;\n",
              "      width: 32px;\n",
              "    }\n",
              "\n",
              "    .colab-df-convert:hover {\n",
              "      background-color: #E2EBFA;\n",
              "      box-shadow: 0px 1px 2px rgba(60, 64, 67, 0.3), 0px 1px 3px 1px rgba(60, 64, 67, 0.15);\n",
              "      fill: #174EA6;\n",
              "    }\n",
              "\n",
              "    [theme=dark] .colab-df-convert {\n",
              "      background-color: #3B4455;\n",
              "      fill: #D2E3FC;\n",
              "    }\n",
              "\n",
              "    [theme=dark] .colab-df-convert:hover {\n",
              "      background-color: #434B5C;\n",
              "      box-shadow: 0px 1px 3px 1px rgba(0, 0, 0, 0.15);\n",
              "      filter: drop-shadow(0px 1px 2px rgba(0, 0, 0, 0.3));\n",
              "      fill: #FFFFFF;\n",
              "    }\n",
              "  </style>\n",
              "\n",
              "      <script>\n",
              "        const buttonEl =\n",
              "          document.querySelector('#df-abe7077c-67e3-4912-b1b9-99039c08d6cd button.colab-df-convert');\n",
              "        buttonEl.style.display =\n",
              "          google.colab.kernel.accessAllowed ? 'block' : 'none';\n",
              "\n",
              "        async function convertToInteractive(key) {\n",
              "          const element = document.querySelector('#df-abe7077c-67e3-4912-b1b9-99039c08d6cd');\n",
              "          const dataTable =\n",
              "            await google.colab.kernel.invokeFunction('convertToInteractive',\n",
              "                                                     [key], {});\n",
              "          if (!dataTable) return;\n",
              "\n",
              "          const docLinkHtml = 'Like what you see? Visit the ' +\n",
              "            '<a target=\"_blank\" href=https://colab.research.google.com/notebooks/data_table.ipynb>data table notebook</a>'\n",
              "            + ' to learn more about interactive tables.';\n",
              "          element.innerHTML = '';\n",
              "          dataTable['output_type'] = 'display_data';\n",
              "          await google.colab.output.renderOutput(dataTable, element);\n",
              "          const docLink = document.createElement('div');\n",
              "          docLink.innerHTML = docLinkHtml;\n",
              "          element.appendChild(docLink);\n",
              "        }\n",
              "      </script>\n",
              "    </div>\n",
              "  </div>\n",
              "  "
            ]
          },
          "metadata": {},
          "execution_count": 214
        }
      ]
    },
    {
      "cell_type": "markdown",
      "source": [
        "The process itself"
      ],
      "metadata": {
        "id": "ciMW_SiqchEB"
      }
    },
    {
      "cell_type": "code",
      "source": [
        "R, M, D= [], [], []\n",
        "init_params =list(np.zeros(6))"
      ],
      "metadata": {
        "id": "1hv1FmHKsXFq"
      },
      "execution_count": 215,
      "outputs": []
    },
    {
      "cell_type": "code",
      "source": [
        "k = 0\n",
        "while k<10:\n",
        "  r = gmm_opt(init_params) \n",
        "  R.append(list(r))\n",
        "  d = np.asarray(data_moms-fict_moms)\n",
        "  D.append(d)\n",
        "  if abs(d[0]) > 1000000:\n",
        "    init_params = list(r)\n",
        "    M.append(init_params)\n",
        "  else: \n",
        "    break\n",
        "  k+=1"
      ],
      "metadata": {
        "id": "4Qy4JF7CsgMI"
      },
      "execution_count": 224,
      "outputs": []
    },
    {
      "cell_type": "code",
      "source": [
        "R"
      ],
      "metadata": {
        "colab": {
          "base_uri": "https://localhost:8080/"
        },
        "id": "FFjrDBcBjG31",
        "outputId": "b47a43ae-c213-4f66-ae78-fc9bae970dcf"
      },
      "execution_count": 225,
      "outputs": [
        {
          "output_type": "execute_result",
          "data": {
            "text/plain": [
              "[[-19.965534407701007,\n",
              "  0.0,\n",
              "  -1.7396702843319676,\n",
              "  1.6537098637893837,\n",
              "  2.648101902741897,\n",
              "  -0.22030652273020618],\n",
              " [-12.982509599822993,\n",
              "  0.0,\n",
              "  -2.1550085480517316,\n",
              "  0.9756477318898249,\n",
              "  0.006531930526603724,\n",
              "  0.012737070882772789],\n",
              " [1.8038711038862987,\n",
              "  0.0,\n",
              "  -1.7897652774448813,\n",
              "  -0.36596201320826643,\n",
              "  -4.742165336982964,\n",
              "  0.43980336580170065],\n",
              " [43.548667131269944,\n",
              "  0.0,\n",
              "  -0.11289381814475119,\n",
              "  -4.139148600832298,\n",
              "  -7.547580787445716,\n",
              "  0.6941023953095931],\n",
              " [52.0459468854753,\n",
              "  0.0,\n",
              "  0.10556614322132646,\n",
              "  -4.977688514950048,\n",
              "  -7.9105472692060035,\n",
              "  0.7218986030002712],\n",
              " [59.38181150477122,\n",
              "  0.0,\n",
              "  0.07366577634281364,\n",
              "  -5.642809956402061,\n",
              "  -7.8698572012192045,\n",
              "  0.7150986519106887],\n",
              " [69.45309757227285,\n",
              "  0.0,\n",
              "  -0.01694513321623769,\n",
              "  -6.565689473752256,\n",
              "  -6.895499291993604,\n",
              "  0.6284678965240789],\n",
              " [75.37256798053126,\n",
              "  0.0,\n",
              "  -1.1480930894894472,\n",
              "  -7.0177770956214625,\n",
              "  -16.3084416647839,\n",
              "  1.4748748695424019],\n",
              " [77.80130869959481,\n",
              "  0.0,\n",
              "  -1.2040549646385315,\n",
              "  -7.25633005307626,\n",
              "  -16.926603771533905,\n",
              "  1.5289174116868507],\n",
              " [83.16654200201741,\n",
              "  0.0,\n",
              "  -1.193725745793726,\n",
              "  -7.75500498556447,\n",
              "  -16.925566669023773,\n",
              "  1.5282177538563304],\n",
              " [87.89696706193295,\n",
              "  0.0,\n",
              "  -1.2387015054047796,\n",
              "  -8.19248243158906,\n",
              "  -16.06363702880065,\n",
              "  1.4500351992344],\n",
              " [89.61984084887173,\n",
              "  0.0,\n",
              "  -1.2525647893568879,\n",
              "  -8.351808222511604,\n",
              "  -15.775044061596882,\n",
              "  1.4235854352590953],\n",
              " [91.39768242112277,\n",
              "  0.0,\n",
              "  -1.2655113102920652,\n",
              "  -8.516563806143555,\n",
              "  -15.476294041701019,\n",
              "  1.3963858726747866],\n",
              " [92.76401231769633,\n",
              "  0.0,\n",
              "  -1.282694190090859,\n",
              "  -8.642646458158001,\n",
              "  -15.261299737940195,\n",
              "  1.3767619100794468],\n",
              " [93.17827985893116,\n",
              "  0.0,\n",
              "  -1.2884219216136312,\n",
              "  -8.680776330806673,\n",
              "  -15.204590501441409,\n",
              "  1.3716223824180098],\n",
              " [94.05683132414211,\n",
              "  0.0,\n",
              "  -1.29663737608011,\n",
              "  -8.761800790032888,\n",
              "  -15.065624248977548,\n",
              "  1.3589670669380216],\n",
              " [94.45780785069195,\n",
              "  0.0,\n",
              "  -1.2985189165370574,\n",
              "  -8.79882741796988,\n",
              "  -15.011299933060595,\n",
              "  1.353984646030073],\n",
              " [94.93727798520987,\n",
              "  0.0,\n",
              "  -1.2997103416105742,\n",
              "  -8.843368245941896,\n",
              "  -14.94844102012768,\n",
              "  1.348273924460853],\n",
              " [95.32832056069549,\n",
              "  0.0,\n",
              "  -1.3015204782762357,\n",
              "  -8.87951778697788,\n",
              "  -14.908384408490432,\n",
              "  1.3446197140994542],\n",
              " [95.34807571239615,\n",
              "  0.0,\n",
              "  -1.3036513724399201,\n",
              "  -8.881250526533487,\n",
              "  -14.82745008750712,\n",
              "  1.337322783288923],\n",
              " [95.55832596523467,\n",
              "  0.0,\n",
              "  -1.3055771570472614,\n",
              "  -8.900644085896884,\n",
              "  -14.782636031560715,\n",
              "  1.3332287777835399],\n",
              " [95.58679247594955,\n",
              "  0.0,\n",
              "  -1.3063748678911917,\n",
              "  -8.903284948645634,\n",
              "  -14.768593365150013,\n",
              "  1.3319411278443678],\n",
              " [95.59321706223523,\n",
              "  0.0,\n",
              "  -1.3067491543120335,\n",
              "  -8.903836629647865,\n",
              "  -14.758128363515645,\n",
              "  1.330994761270046],\n",
              " [95.57457830573874,\n",
              "  0.0,\n",
              "  -1.3073387731807953,\n",
              "  -8.902068552846462,\n",
              "  -14.743279940136883,\n",
              "  1.3296534768713402],\n",
              " [95.5732547918275,\n",
              "  0.0,\n",
              "  -1.3078983240369906,\n",
              "  -8.901942171201984,\n",
              "  -14.731755564403379,\n",
              "  1.328619187408202],\n",
              " [95.5527479732566,\n",
              "  0.0,\n",
              "  -1.3084032624939297,\n",
              "  -8.899974684631998,\n",
              "  -14.729161076843331,\n",
              "  1.3283782732265434],\n",
              " [95.55219401633428,\n",
              "  0.0,\n",
              "  -1.3087546346324626,\n",
              "  -8.899914039649984,\n",
              "  -14.728903145181308,\n",
              "  1.3283523749009565],\n",
              " [95.56603093324759,\n",
              "  0.0,\n",
              "  -1.308812743863209,\n",
              "  -8.901189380735198,\n",
              "  -14.726876730232506,\n",
              "  1.3281693844131626],\n",
              " [95.56660801169599,\n",
              "  0.0,\n",
              "  -1.3089704778736255,\n",
              "  -8.90124195464185,\n",
              "  -14.726915475045644,\n",
              "  1.3281723719654803],\n",
              " [95.56866772693363,\n",
              "  0.0,\n",
              "  -1.3091008670013626,\n",
              "  -8.9014211290495,\n",
              "  -14.725560465115871,\n",
              "  1.3280483494822448],\n",
              " [95.56984321784181,\n",
              "  0.0,\n",
              "  -1.3093067682668644,\n",
              "  -8.901519747026649,\n",
              "  -14.725696020395608,\n",
              "  1.3280617855026222],\n",
              " [95.56993584518904,\n",
              "  0.0,\n",
              "  -1.30935137048813,\n",
              "  -8.901527104331963,\n",
              "  -14.72570632210056,\n",
              "  1.3280619702417737],\n",
              " [95.56993563249438,\n",
              "  0.0,\n",
              "  -1.309352952617218,\n",
              "  -8.901527192724672,\n",
              "  -14.725703042286852,\n",
              "  1.3280616683495121],\n",
              " [95.56993563249438,\n",
              "  0.0,\n",
              "  -1.309352952617218,\n",
              "  -8.901527192724672,\n",
              "  -14.725703042286852,\n",
              "  1.3280616683495121],\n",
              " [95.56993563249438,\n",
              "  0.0,\n",
              "  -1.309352952617218,\n",
              "  -8.901527192724672,\n",
              "  -14.725703042286852,\n",
              "  1.3280616683495121]]"
            ]
          },
          "metadata": {},
          "execution_count": 225
        }
      ]
    },
    {
      "cell_type": "code",
      "source": [
        "df_res = pd.DataFrame({'params':R, 'delta1':D})"
      ],
      "metadata": {
        "id": "B_-vNJjyssmh"
      },
      "execution_count": 226,
      "outputs": []
    },
    {
      "cell_type": "code",
      "source": [
        "for i in range(len(R[0])):\n",
        "  figure(figsize=(8, 5))\n",
        "  plt.plot(np.asarray(R)[:, i])\n",
        "  plt.show()"
      ],
      "metadata": {
        "colab": {
          "base_uri": "https://localhost:8080/",
          "height": 1000
        },
        "id": "GP5L7N55i4nE",
        "outputId": "d1909af5-b361-4823-f2b7-834a462c4371"
      },
      "execution_count": 227,
      "outputs": [
        {
          "output_type": "display_data",
          "data": {
            "text/plain": [
              "<Figure size 576x360 with 1 Axes>"
            ],
            "image/png": "[encoded data removed]"
          },
          "metadata": {
            "needs_background": "light"
          }
        },
        {
          "output_type": "display_data",
          "data": {
            "text/plain": [
              "<Figure size 576x360 with 1 Axes>"
            ],
            "image/png": "[encoded data removed]"
          },
          "metadata": {
            "needs_background": "light"
          }
        },
        {
          "output_type": "display_data",
          "data": {
            "text/plain": [
              "<Figure size 576x360 with 1 Axes>"
            ],
            "image/png": "[encoded data removed]"
          },
          "metadata": {
            "needs_background": "light"
          }
        },
        {
          "output_type": "display_data",
          "data": {
            "text/plain": [
              "<Figure size 576x360 with 1 Axes>"
            ],
            "image/png": "[encoded data removed]"
          },
          "metadata": {
            "needs_background": "light"
          }
        },
        {
          "output_type": "display_data",
          "data": {
            "text/plain": [
              "<Figure size 576x360 with 1 Axes>"
            ],
            "image/png": "[encoded data removed]"
          },
          "metadata": {
            "needs_background": "light"
          }
        },
        {
          "output_type": "display_data",
          "data": {
            "text/plain": [
              "<Figure size 576x360 with 1 Axes>"
            ],
            "image/png": "[encoded data removed]"
          },
          "metadata": {
            "needs_background": "light"
          }
        }
      ]
    },
    {
      "cell_type": "code",
      "source": [
        "D1 = np.asarray(D)\n",
        "for i in range(len(D1[0])):\n",
        "  figure(figsize=(8, 5), dpi=80)\n",
        "  plt.plot(D1[:,i])\n",
        "  plt.show()"
      ],
      "metadata": {
        "colab": {
          "base_uri": "https://localhost:8080/",
          "height": 1000
        },
        "id": "FqS3bsx-B-s5",
        "outputId": "b355e270-8db6-4f56-952f-94464ff70c3c"
      },
      "execution_count": 228,
      "outputs": [
        {
          "output_type": "display_data",
          "data": {
            "text/plain": [
              "<Figure size 640x400 with 1 Axes>"
            ],
            "image/png": "[encoded data removed]"
          },
          "metadata": {
            "needs_background": "light"
          }
        },
        {
          "output_type": "display_data",
          "data": {
            "text/plain": [
              "<Figure size 640x400 with 1 Axes>"
            ],
            "image/png": "[encoded data removed]"
          },
          "metadata": {
            "needs_background": "light"
          }
        },
        {
          "output_type": "display_data",
          "data": {
            "text/plain": [
              "<Figure size 640x400 with 1 Axes>"
            ],
            "image/png": "[encoded data removed]"
          },
          "metadata": {
            "needs_background": "light"
          }
        },
        {
          "output_type": "display_data",
          "data": {
            "text/plain": [
              "<Figure size 640x400 with 1 Axes>"
            ],
            "image/png": "[encoded data removed]"
          },
          "metadata": {
            "needs_background": "light"
          }
        },
        {
          "output_type": "display_data",
          "data": {
            "text/plain": [
              "<Figure size 640x400 with 1 Axes>"
            ],
            "image/png": "[encoded data removed]"
          },
          "metadata": {
            "needs_background": "light"
          }
        },
        {
          "output_type": "display_data",
          "data": {
            "text/plain": [
              "<Figure size 640x400 with 1 Axes>"
            ],
            "image/png": "[encoded data removed]"
          },
          "metadata": {
            "needs_background": "light"
          }
        },
        {
          "output_type": "display_data",
          "data": {
            "text/plain": [
              "<Figure size 640x400 with 1 Axes>"
            ],
            "image/png": "[encoded data removed]"
          },
          "metadata": {
            "needs_background": "light"
          }
        },
        {
          "output_type": "display_data",
          "data": {
            "text/plain": [
              "<Figure size 640x400 with 1 Axes>"
            ],
            "image/png": "[encoded data removed]"
          },
          "metadata": {
            "needs_background": "light"
          }
        },
        {
          "output_type": "display_data",
          "data": {
            "text/plain": [
              "<Figure size 640x400 with 1 Axes>"
            ],
            "image/png": "[encoded data removed]"
          },
          "metadata": {
            "needs_background": "light"
          }
        },
        {
          "output_type": "display_data",
          "data": {
            "text/plain": [
              "<Figure size 640x400 with 1 Axes>"
            ],
            "image/png": "[encoded data removed]"
          },
          "metadata": {
            "needs_background": "light"
          }
        }
      ]
    },
    {
      "cell_type": "markdown",
      "source": [
        "## GMM check"
      ],
      "metadata": {
        "id": "NC2JoxZ7ypwY"
      }
    },
    {
      "cell_type": "code",
      "source": [
        "cmap1 = matplotlib.cm.get_cmap('summer')\n",
        "p1_vals = np.linspace(-2200,-500, 50)\n",
        "p2_vals = np.linspace(25, 280, 50)\n",
        "crit_vals = np.zeros((50, 50))\n",
        "for p1_ind in range(50):\n",
        "    for p2_ind in range(50):\n",
        "        crit_vals[p1_ind, p2_ind] = \\\n",
        "            criterion(np.array([p1_vals[p1_ind],0.0,182.375271604444,p2_vals[p2_ind],-7457.194146864454,674.1163489503457]), revs, W_hat)\n",
        "\n",
        "p1_mesh, p2_mesh = np.meshgrid(p1_vals, p2_vals)\n",
        "\n",
        "fig = plt.figure()\n",
        "ax = fig.gca(projection='3d')\n",
        "ax.plot_surface(p2_mesh, p1_mesh, crit_vals, rstride=8,\n",
        "                cstride=1, cmap=cmap1)\n",
        "ax.set_title('Criterion function for values of param_distance and param_income')\n",
        "ax.set_zlabel(r'Crit. func.')"
      ],
      "metadata": {
        "colab": {
          "base_uri": "https://localhost:8080/",
          "height": 267
        },
        "id": "haY97nfzysmC",
        "outputId": "894dd1c8-493f-4c2c-92f3-1132d195ed43"
      },
      "execution_count": 139,
      "outputs": [
        {
          "output_type": "execute_result",
          "data": {
            "text/plain": [
              "Text(0.5, 0, 'Crit. func.')"
            ]
          },
          "metadata": {},
          "execution_count": 139
        },
        {
          "output_type": "display_data",
          "data": {
            "text/plain": [
              "<Figure size 432x288 with 1 Axes>"
            ],
            "image/png": "[encoded data removed]"
          },
          "metadata": {
            "needs_background": "light"
          }
        }
      ]
    },
    {
      "cell_type": "code",
      "source": [
        "crit_vals.min()"
      ],
      "metadata": {
        "colab": {
          "base_uri": "https://localhost:8080/"
        },
        "id": "ZCwJxK0VfC6G",
        "outputId": "e1b5fa83-6636-4b76-d3fc-ddac568e0a57"
      },
      "execution_count": null,
      "outputs": [
        {
          "output_type": "execute_result",
          "data": {
            "text/plain": [
              "5.373272662210432e+19"
            ]
          },
          "metadata": {},
          "execution_count": 399
        }
      ]
    },
    {
      "cell_type": "code",
      "source": [
        "criterion([-2123.5585928294067, 0.0, 182.375271604444, 216.18014425698755,-7457.194146864454,674.1163489503457], revs, W_hat)"
      ],
      "metadata": {
        "colab": {
          "base_uri": "https://localhost:8080/"
        },
        "id": "OgXeKOyNbJyc",
        "outputId": "10bd84e5-264a-422d-a9c8-c06eca3c1021"
      },
      "execution_count": null,
      "outputs": [
        {
          "output_type": "execute_result",
          "data": {
            "text/plain": [
              "5.381409625870408e+19"
            ]
          },
          "metadata": {},
          "execution_count": 377
        }
      ]
    },
    {
      "cell_type": "code",
      "source": [
        "criterion([-810.6116819379403,0.0,76.5435460759745,83.02704647186954,-3048.877753188517,275.5364490003797], revs, W_hat)"
      ],
      "metadata": {
        "colab": {
          "base_uri": "https://localhost:8080/"
        },
        "id": "0hcld46CekIl",
        "outputId": "93e917de-f152-4d6a-95b3-9bdb76753b4e"
      },
      "execution_count": null,
      "outputs": [
        {
          "output_type": "execute_result",
          "data": {
            "text/plain": [
              "5.383311851672377e+19"
            ]
          },
          "metadata": {},
          "execution_count": 396
        }
      ]
    },
    {
      "cell_type": "code",
      "source": [
        "#generate different datasets\n",
        "seeds = np.random.randint(1, 10000, 10)\n",
        "C, Sh, Me, E = [],[],[],[]\n",
        "for seed in seeds: \n",
        "  cons, shops, merged_conshops = data_gen(seed_m=seed)\n",
        "  C.append(cons)\n",
        "  Sh.append(shops)\n",
        "  Me.append(merged_conshops)"
      ],
      "metadata": {
        "id": "TGWvSCLXgCj2"
      },
      "execution_count": null,
      "outputs": []
    },
    {
      "cell_type": "code",
      "source": [
        "for m in Me: \n",
        "  E.append(util_sum(m))"
      ],
      "metadata": {
        "id": "D3-d-s5DnoAp"
      },
      "execution_count": null,
      "outputs": []
    },
    {
      "cell_type": "code",
      "source": [
        "R_, M_, D_= [], [], []\n",
        "init_params =list(np.zeros(6))"
      ],
      "metadata": {
        "id": "xgidgEXDrQRT"
      },
      "execution_count": null,
      "outputs": []
    },
    {
      "cell_type": "code",
      "source": [
        "k = 0\n",
        "while k < 10:\n",
        "  r = gmm_opt(init_params) \n",
        "  R_.append(list(r))\n",
        "  d = data_moms[0]-fict_moms[0]\n",
        "  D_.append(d)\n",
        "  if abs(d) > 100:\n",
        "    init_params = list(r)\n",
        "    M_.append(init_params)\n",
        "  else: \n",
        "    break\n",
        "  k+=1"
      ],
      "metadata": {
        "id": "Q2IKsTtdp-t3"
      },
      "execution_count": null,
      "outputs": []
    },
    {
      "cell_type": "code",
      "source": [
        "store_rev = pd.DataFrame(merged_conshops.groupby('shopid')['rev_0'].sum()).reset_index()"
      ],
      "metadata": {
        "id": "46DVXqoGq4ev"
      },
      "execution_count": null,
      "outputs": []
    },
    {
      "cell_type": "code",
      "source": [
        "store_rev"
      ],
      "metadata": {
        "colab": {
          "base_uri": "https://localhost:8080/",
          "height": 363
        },
        "id": "C9H-QUbo43NA",
        "outputId": "7ad26185-41fe-4bc6-f53b-d785af424232"
      },
      "execution_count": null,
      "outputs": [
        {
          "output_type": "execute_result",
          "data": {
            "text/plain": [
              "   shopid         rev_0\n",
              "0       0  1.171015e+09\n",
              "1       1  1.566516e+08\n",
              "2       2  6.548914e+08\n",
              "3       3  5.232097e+08\n",
              "4       4  1.207387e+09\n",
              "5       5  5.715010e+08\n",
              "6       6  1.700454e+08\n",
              "7       7  4.731836e+09\n",
              "8       8  1.969695e+08\n",
              "9       9  3.436319e+09"
            ],
            "text/html": [
              "\n",
              "  <div id=\"df-e0724652-703e-40d5-908b-e960d039fcac\">\n",
              "    <div class=\"colab-df-container\">\n",
              "      <div>\n",
              "<style scoped>\n",
              "    .dataframe tbody tr th:only-of-type {\n",
              "        vertical-align: middle;\n",
              "    }\n",
              "\n",
              "    .dataframe tbody tr th {\n",
              "        vertical-align: top;\n",
              "    }\n",
              "\n",
              "    .dataframe thead th {\n",
              "        text-align: right;\n",
              "    }\n",
              "</style>\n",
              "<table border=\"1\" class=\"dataframe\">\n",
              "  <thead>\n",
              "    <tr style=\"text-align: right;\">\n",
              "      <th></th>\n",
              "      <th>shopid</th>\n",
              "      <th>rev_0</th>\n",
              "    </tr>\n",
              "  </thead>\n",
              "  <tbody>\n",
              "    <tr>\n",
              "      <th>0</th>\n",
              "      <td>0</td>\n",
              "      <td>1.171015e+09</td>\n",
              "    </tr>\n",
              "    <tr>\n",
              "      <th>1</th>\n",
              "      <td>1</td>\n",
              "      <td>1.566516e+08</td>\n",
              "    </tr>\n",
              "    <tr>\n",
              "      <th>2</th>\n",
              "      <td>2</td>\n",
              "      <td>6.548914e+08</td>\n",
              "    </tr>\n",
              "    <tr>\n",
              "      <th>3</th>\n",
              "      <td>3</td>\n",
              "      <td>5.232097e+08</td>\n",
              "    </tr>\n",
              "    <tr>\n",
              "      <th>4</th>\n",
              "      <td>4</td>\n",
              "      <td>1.207387e+09</td>\n",
              "    </tr>\n",
              "    <tr>\n",
              "      <th>5</th>\n",
              "      <td>5</td>\n",
              "      <td>5.715010e+08</td>\n",
              "    </tr>\n",
              "    <tr>\n",
              "      <th>6</th>\n",
              "      <td>6</td>\n",
              "      <td>1.700454e+08</td>\n",
              "    </tr>\n",
              "    <tr>\n",
              "      <th>7</th>\n",
              "      <td>7</td>\n",
              "      <td>4.731836e+09</td>\n",
              "    </tr>\n",
              "    <tr>\n",
              "      <th>8</th>\n",
              "      <td>8</td>\n",
              "      <td>1.969695e+08</td>\n",
              "    </tr>\n",
              "    <tr>\n",
              "      <th>9</th>\n",
              "      <td>9</td>\n",
              "      <td>3.436319e+09</td>\n",
              "    </tr>\n",
              "  </tbody>\n",
              "</table>\n",
              "</div>\n",
              "      <button class=\"colab-df-convert\" onclick=\"convertToInteractive('df-e0724652-703e-40d5-908b-e960d039fcac')\"\n",
              "              title=\"Convert this dataframe to an interactive table.\"\n",
              "              style=\"display:none;\">\n",
              "        \n",
              "  <svg xmlns=\"http://www.w3.org/2000/svg\" height=\"24px\"viewBox=\"0 0 24 24\"\n",
              "       width=\"24px\">\n",
              "    <path d=\"M0 0h24v24H0V0z\" fill=\"none\"/>\n",
              "    <path d=\"M18.56 5.44l.94 2.06.94-2.06 2.06-.94-2.06-.94-.94-2.06-.94 2.06-2.06.94zm-11 1L8.5 8.5l.94-2.06 2.06-.94-2.06-.94L8.5 2.5l-.94 2.06-2.06.94zm10 10l.94 2.06.94-2.06 2.06-.94-2.06-.94-.94-2.06-.94 2.06-2.06.94z\"/><path d=\"M17.41 7.96l-1.37-1.37c-.4-.4-.92-.59-1.43-.59-.52 0-1.04.2-1.43.59L10.3 9.45l-7.72 7.72c-.78.78-.78 2.05 0 2.83L4 21.41c.39.39.9.59 1.41.59.51 0 1.02-.2 1.41-.59l7.78-7.78 2.81-2.81c.8-.78.8-2.07 0-2.86zM5.41 20L4 18.59l7.72-7.72 1.47 1.35L5.41 20z\"/>\n",
              "  </svg>\n",
              "      </button>\n",
              "      \n",
              "  <style>\n",
              "    .colab-df-container {\n",
              "      display:flex;\n",
              "      flex-wrap:wrap;\n",
              "      gap: 12px;\n",
              "    }\n",
              "\n",
              "    .colab-df-convert {\n",
              "      background-color: #E8F0FE;\n",
              "      border: none;\n",
              "      border-radius: 50%;\n",
              "      cursor: pointer;\n",
              "      display: none;\n",
              "      fill: #1967D2;\n",
              "      height: 32px;\n",
              "      padding: 0 0 0 0;\n",
              "      width: 32px;\n",
              "    }\n",
              "\n",
              "    .colab-df-convert:hover {\n",
              "      background-color: #E2EBFA;\n",
              "      box-shadow: 0px 1px 2px rgba(60, 64, 67, 0.3), 0px 1px 3px 1px rgba(60, 64, 67, 0.15);\n",
              "      fill: #174EA6;\n",
              "    }\n",
              "\n",
              "    [theme=dark] .colab-df-convert {\n",
              "      background-color: #3B4455;\n",
              "      fill: #D2E3FC;\n",
              "    }\n",
              "\n",
              "    [theme=dark] .colab-df-convert:hover {\n",
              "      background-color: #434B5C;\n",
              "      box-shadow: 0px 1px 3px 1px rgba(0, 0, 0, 0.15);\n",
              "      filter: drop-shadow(0px 1px 2px rgba(0, 0, 0, 0.3));\n",
              "      fill: #FFFFFF;\n",
              "    }\n",
              "  </style>\n",
              "\n",
              "      <script>\n",
              "        const buttonEl =\n",
              "          document.querySelector('#df-e0724652-703e-40d5-908b-e960d039fcac button.colab-df-convert');\n",
              "        buttonEl.style.display =\n",
              "          google.colab.kernel.accessAllowed ? 'block' : 'none';\n",
              "\n",
              "        async function convertToInteractive(key) {\n",
              "          const element = document.querySelector('#df-e0724652-703e-40d5-908b-e960d039fcac');\n",
              "          const dataTable =\n",
              "            await google.colab.kernel.invokeFunction('convertToInteractive',\n",
              "                                                     [key], {});\n",
              "          if (!dataTable) return;\n",
              "\n",
              "          const docLinkHtml = 'Like what you see? Visit the ' +\n",
              "            '<a target=\"_blank\" href=https://colab.research.google.com/notebooks/data_table.ipynb>data table notebook</a>'\n",
              "            + ' to learn more about interactive tables.';\n",
              "          element.innerHTML = '';\n",
              "          dataTable['output_type'] = 'display_data';\n",
              "          await google.colab.output.renderOutput(dataTable, element);\n",
              "          const docLink = document.createElement('div');\n",
              "          docLink.innerHTML = docLinkHtml;\n",
              "          element.appendChild(docLink);\n",
              "        }\n",
              "      </script>\n",
              "    </div>\n",
              "  </div>\n",
              "  "
            ]
          },
          "metadata": {},
          "execution_count": 552
        }
      ]
    },
    {
      "cell_type": "markdown",
      "source": [
        "## Try this one on real data"
      ],
      "metadata": {
        "id": "xKesRino2peb"
      }
    },
    {
      "cell_type": "code",
      "source": [
        "from google.colab import drive\n",
        "drive.mount('/content/drive')"
      ],
      "metadata": {
        "colab": {
          "base_uri": "https://localhost:8080/"
        },
        "id": "WPhzDlhJ1_Y6",
        "outputId": "efd690ae-6e9d-4ac7-a0c4-11da6e010463"
      },
      "execution_count": null,
      "outputs": [
        {
          "output_type": "stream",
          "name": "stdout",
          "text": [
            "Mounted at /content/drive\n"
          ]
        }
      ]
    },
    {
      "cell_type": "code",
      "source": [
        "path = 'drive/My Drive/term_paper/Thesis Data'"
      ],
      "metadata": {
        "id": "wMzZm4Hs4_Xn"
      },
      "execution_count": null,
      "outputs": []
    },
    {
      "cell_type": "code",
      "source": [
        "merged_data = pd.read_csv(path + '/merged_data.csv', index_col = 0)"
      ],
      "metadata": {
        "id": "rsFE3ZOWDTnI"
      },
      "execution_count": null,
      "outputs": []
    },
    {
      "cell_type": "code",
      "source": [
        "dist = pd.read_csv(path + '/dist.csv', index_col = 0)"
      ],
      "metadata": {
        "id": "T6BmaMG2DiJ0"
      },
      "execution_count": null,
      "outputs": []
    },
    {
      "cell_type": "code",
      "source": [
        "dist"
      ],
      "metadata": {
        "colab": {
          "base_uri": "https://localhost:8080/",
          "height": 423
        },
        "id": "KXOm576PDySm",
        "outputId": "6102d4c2-eb8c-4819-a2a4-29d60b8c3569"
      },
      "execution_count": null,
      "outputs": [
        {
          "output_type": "execute_result",
          "data": {
            "text/plain": [
              "         INDEX  shopid         km\n",
              "0       195298   19867  28.347708\n",
              "1       196631   19867   7.409737\n",
              "2       195197   19867  31.874778\n",
              "3       197022   19867  32.206271\n",
              "4       197110   19867  32.393798\n",
              "...        ...     ...        ...\n",
              "450523  195160    3733   5.539858\n",
              "450524  196006    3733  10.189169\n",
              "450525  198099    3733  10.226677\n",
              "450526  199026    3733   7.164124\n",
              "450527  199053    3733   3.802237\n",
              "\n",
              "[450528 rows x 3 columns]"
            ],
            "text/html": [
              "\n",
              "  <div id=\"df-59d97af6-e452-492a-8e27-ebd13eadddfe\">\n",
              "    <div class=\"colab-df-container\">\n",
              "      <div>\n",
              "<style scoped>\n",
              "    .dataframe tbody tr th:only-of-type {\n",
              "        vertical-align: middle;\n",
              "    }\n",
              "\n",
              "    .dataframe tbody tr th {\n",
              "        vertical-align: top;\n",
              "    }\n",
              "\n",
              "    .dataframe thead th {\n",
              "        text-align: right;\n",
              "    }\n",
              "</style>\n",
              "<table border=\"1\" class=\"dataframe\">\n",
              "  <thead>\n",
              "    <tr style=\"text-align: right;\">\n",
              "      <th></th>\n",
              "      <th>INDEX</th>\n",
              "      <th>shopid</th>\n",
              "      <th>km</th>\n",
              "    </tr>\n",
              "  </thead>\n",
              "  <tbody>\n",
              "    <tr>\n",
              "      <th>0</th>\n",
              "      <td>195298</td>\n",
              "      <td>19867</td>\n",
              "      <td>28.347708</td>\n",
              "    </tr>\n",
              "    <tr>\n",
              "      <th>1</th>\n",
              "      <td>196631</td>\n",
              "      <td>19867</td>\n",
              "      <td>7.409737</td>\n",
              "    </tr>\n",
              "    <tr>\n",
              "      <th>2</th>\n",
              "      <td>195197</td>\n",
              "      <td>19867</td>\n",
              "      <td>31.874778</td>\n",
              "    </tr>\n",
              "    <tr>\n",
              "      <th>3</th>\n",
              "      <td>197022</td>\n",
              "      <td>19867</td>\n",
              "      <td>32.206271</td>\n",
              "    </tr>\n",
              "    <tr>\n",
              "      <th>4</th>\n",
              "      <td>197110</td>\n",
              "      <td>19867</td>\n",
              "      <td>32.393798</td>\n",
              "    </tr>\n",
              "    <tr>\n",
              "      <th>...</th>\n",
              "      <td>...</td>\n",
              "      <td>...</td>\n",
              "      <td>...</td>\n",
              "    </tr>\n",
              "    <tr>\n",
              "      <th>450523</th>\n",
              "      <td>195160</td>\n",
              "      <td>3733</td>\n",
              "      <td>5.539858</td>\n",
              "    </tr>\n",
              "    <tr>\n",
              "      <th>450524</th>\n",
              "      <td>196006</td>\n",
              "      <td>3733</td>\n",
              "      <td>10.189169</td>\n",
              "    </tr>\n",
              "    <tr>\n",
              "      <th>450525</th>\n",
              "      <td>198099</td>\n",
              "      <td>3733</td>\n",
              "      <td>10.226677</td>\n",
              "    </tr>\n",
              "    <tr>\n",
              "      <th>450526</th>\n",
              "      <td>199026</td>\n",
              "      <td>3733</td>\n",
              "      <td>7.164124</td>\n",
              "    </tr>\n",
              "    <tr>\n",
              "      <th>450527</th>\n",
              "      <td>199053</td>\n",
              "      <td>3733</td>\n",
              "      <td>3.802237</td>\n",
              "    </tr>\n",
              "  </tbody>\n",
              "</table>\n",
              "<p>450528 rows × 3 columns</p>\n",
              "</div>\n",
              "      <button class=\"colab-df-convert\" onclick=\"convertToInteractive('df-59d97af6-e452-492a-8e27-ebd13eadddfe')\"\n",
              "              title=\"Convert this dataframe to an interactive table.\"\n",
              "              style=\"display:none;\">\n",
              "        \n",
              "  <svg xmlns=\"http://www.w3.org/2000/svg\" height=\"24px\"viewBox=\"0 0 24 24\"\n",
              "       width=\"24px\">\n",
              "    <path d=\"M0 0h24v24H0V0z\" fill=\"none\"/>\n",
              "    <path d=\"M18.56 5.44l.94 2.06.94-2.06 2.06-.94-2.06-.94-.94-2.06-.94 2.06-2.06.94zm-11 1L8.5 8.5l.94-2.06 2.06-.94-2.06-.94L8.5 2.5l-.94 2.06-2.06.94zm10 10l.94 2.06.94-2.06 2.06-.94-2.06-.94-.94-2.06-.94 2.06-2.06.94z\"/><path d=\"M17.41 7.96l-1.37-1.37c-.4-.4-.92-.59-1.43-.59-.52 0-1.04.2-1.43.59L10.3 9.45l-7.72 7.72c-.78.78-.78 2.05 0 2.83L4 21.41c.39.39.9.59 1.41.59.51 0 1.02-.2 1.41-.59l7.78-7.78 2.81-2.81c.8-.78.8-2.07 0-2.86zM5.41 20L4 18.59l7.72-7.72 1.47 1.35L5.41 20z\"/>\n",
              "  </svg>\n",
              "      </button>\n",
              "      \n",
              "  <style>\n",
              "    .colab-df-container {\n",
              "      display:flex;\n",
              "      flex-wrap:wrap;\n",
              "      gap: 12px;\n",
              "    }\n",
              "\n",
              "    .colab-df-convert {\n",
              "      background-color: #E8F0FE;\n",
              "      border: none;\n",
              "      border-radius: 50%;\n",
              "      cursor: pointer;\n",
              "      display: none;\n",
              "      fill: #1967D2;\n",
              "      height: 32px;\n",
              "      padding: 0 0 0 0;\n",
              "      width: 32px;\n",
              "    }\n",
              "\n",
              "    .colab-df-convert:hover {\n",
              "      background-color: #E2EBFA;\n",
              "      box-shadow: 0px 1px 2px rgba(60, 64, 67, 0.3), 0px 1px 3px 1px rgba(60, 64, 67, 0.15);\n",
              "      fill: #174EA6;\n",
              "    }\n",
              "\n",
              "    [theme=dark] .colab-df-convert {\n",
              "      background-color: #3B4455;\n",
              "      fill: #D2E3FC;\n",
              "    }\n",
              "\n",
              "    [theme=dark] .colab-df-convert:hover {\n",
              "      background-color: #434B5C;\n",
              "      box-shadow: 0px 1px 3px 1px rgba(0, 0, 0, 0.15);\n",
              "      filter: drop-shadow(0px 1px 2px rgba(0, 0, 0, 0.3));\n",
              "      fill: #FFFFFF;\n",
              "    }\n",
              "  </style>\n",
              "\n",
              "      <script>\n",
              "        const buttonEl =\n",
              "          document.querySelector('#df-59d97af6-e452-492a-8e27-ebd13eadddfe button.colab-df-convert');\n",
              "        buttonEl.style.display =\n",
              "          google.colab.kernel.accessAllowed ? 'block' : 'none';\n",
              "\n",
              "        async function convertToInteractive(key) {\n",
              "          const element = document.querySelector('#df-59d97af6-e452-492a-8e27-ebd13eadddfe');\n",
              "          const dataTable =\n",
              "            await google.colab.kernel.invokeFunction('convertToInteractive',\n",
              "                                                     [key], {});\n",
              "          if (!dataTable) return;\n",
              "\n",
              "          const docLinkHtml = 'Like what you see? Visit the ' +\n",
              "            '<a target=\"_blank\" href=https://colab.research.google.com/notebooks/data_table.ipynb>data table notebook</a>'\n",
              "            + ' to learn more about interactive tables.';\n",
              "          element.innerHTML = '';\n",
              "          dataTable['output_type'] = 'display_data';\n",
              "          await google.colab.output.renderOutput(dataTable, element);\n",
              "          const docLink = document.createElement('div');\n",
              "          docLink.innerHTML = docLinkHtml;\n",
              "          element.appendChild(docLink);\n",
              "        }\n",
              "      </script>\n",
              "    </div>\n",
              "  </div>\n",
              "  "
            ]
          },
          "metadata": {},
          "execution_count": 62
        }
      ]
    },
    {
      "cell_type": "code",
      "source": [
        "fdata = merger(dist, merged_data, ['shopid'], ['shopid'], 'inner')"
      ],
      "metadata": {
        "id": "yOoHJorZFg9j"
      },
      "execution_count": null,
      "outputs": []
    },
    {
      "cell_type": "markdown",
      "source": [
        "# Adjusted old model"
      ],
      "metadata": {
        "id": "Oj9NX1SrkDzG"
      }
    },
    {
      "cell_type": "markdown",
      "source": [
        "Здесь я несколько исправил старый код, который выдал неплохой результат для некоторых параметров (например, альфа очень близка к 0.3)"
      ],
      "metadata": {
        "id": "xjo2XVwvT3bS"
      }
    },
    {
      "cell_type": "code",
      "source": [
        "import torch\n",
        "from torch import nn, optim"
      ],
      "metadata": {
        "id": "zBc3_1Xwbra4"
      },
      "execution_count": null,
      "outputs": []
    },
    {
      "cell_type": "code",
      "source": [
        "class Model(nn.Module):  \n",
        "    def __init__(self):\n",
        "        super(Model, self).__init__()\n",
        "        gamma1, gamma2, gamma3, gamma4, gamma5, gamma6, alpha = torch.tensor([1.]),torch.tensor([1.]),torch.tensor([1.]),torch.tensor([1.]), torch.tensor([1.]), torch.tensor([1.]), torch.tensor([1.])\n",
        "        self.gamma1 = nn.Parameter(gamma1)\n",
        "        self.gamma2 = nn.Parameter(gamma2)\n",
        "        self.gamma3 = nn.Parameter(gamma3)\n",
        "        self.gamma4 = nn.Parameter(gamma4)\n",
        "        self.gamma5 = nn.Parameter(gamma5)\n",
        "        self.gamma6 = nn.Parameter(gamma6)\n",
        "        self.alpha = nn.Parameter(alpha)\n",
        "\n",
        "\n",
        "    def forward(self, data):\n",
        "        km = torch.tensor(data['km'].values.reshape(-1, 1))\n",
        "        vehicle = torch.tensor(data['vehicle'].values.reshape(-1, 1)) \n",
        "        km_vehicle = torch.tensor(data['dist*vehicle'].values.reshape(-1, 1))\n",
        "        dist_inc = torch.tensor(data['dist*log(inc)'].values.reshape(-1, 1))\n",
        "        size = torch.tensor(data['log(size)'].values.reshape(-1, 1))\n",
        "        size_inc = torch.tensor(data['log(size)*log(inc)'].values.reshape(-1, 1))\n",
        "        income = torch.tensor(data['income'].values.reshape(-1, 1))\n",
        "        pop = torch.tensor(data['population'].values.reshape(-1, 1))\n",
        "        util = self.gamma1 * km + self.gamma2 * vehicle * self.gamma3 * km_vehicle + self.gamma4 * dist_inc + self.gamma5 * size + self.gamma6 * size_inc #torch.kron(cons_dem, store_char) # receiving a dimension error        \n",
        "        u = util.reshape(100, -1)\n",
        "        m = nn.Softmax(dim=1)\n",
        "        R_st = m(u).reshape(-1,1) * income * pop  * self.alpha\n",
        "        adjR_st = torch.sum(R_st.reshape(100, -1), dim=0)\n",
        "        R = adjR_st.reshape(-1,1)\n",
        "        return R\n",
        "\n",
        "class func_loss(nn.Module):\n",
        "  def __init__(self):\n",
        "      super(func_loss, self).__init__()\n",
        "      self.mse = nn.MSELoss()\n",
        "      \n",
        "  def forward(self, pred, actual):\n",
        "      return self.mse(pred, actual)\n",
        "\n",
        "model = Model()\n",
        "criterion = func_loss() \n",
        "optimizer = torch.optim.Adam(model.parameters(), lr=1e-3)\n",
        "losses, preds = [], []\n",
        "for epoch in range(500000):\n",
        "    pred_y = model(data)\n",
        "    loss  = criterion(pred_y, torch.tensor(np.array(revs).reshape(-1, 1))) #idk what else to use\n",
        "    optimizer.zero_grad()\n",
        "    loss.backward()\n",
        "    optimizer.step()\n",
        "    losses.append(loss.detach().numpy().item())"
      ],
      "metadata": {
        "id": "RYztFzinEPe3"
      },
      "execution_count": null,
      "outputs": []
    },
    {
      "cell_type": "code",
      "source": [
        "from matplotlib import pyplot as plt\n",
        "plt.plot(losses)"
      ],
      "metadata": {
        "colab": {
          "base_uri": "https://localhost:8080/",
          "height": 294
        },
        "id": "jHF_uxQ7RL92",
        "outputId": "ea879c63-b9e1-470a-c997-234af064e97f"
      },
      "execution_count": null,
      "outputs": [
        {
          "output_type": "execute_result",
          "data": {
            "text/plain": [
              "[<matplotlib.lines.Line2D at 0x7f8a62335c90>]"
            ]
          },
          "metadata": {},
          "execution_count": 54
        },
        {
          "output_type": "display_data",
          "data": {
            "text/plain": [
              "<Figure size 432x288 with 1 Axes>"
            ],
            "image/png": "[encoded data removed]"
          },
          "metadata": {
            "needs_background": "light"
          }
        }
      ]
    },
    {
      "cell_type": "code",
      "source": [
        "#derive the params\n",
        "param_list = [model.gamma1.detach().numpy().item()]\n",
        "param_list"
      ],
      "metadata": {
        "colab": {
          "base_uri": "https://localhost:8080/"
        },
        "id": "dpbDFJVLRbQA",
        "outputId": "2fa8a813-aa18-44a2-e2d2-a38292876d6f"
      },
      "execution_count": null,
      "outputs": [
        {
          "output_type": "execute_result",
          "data": {
            "text/plain": [
              "[-467.92108154296875]"
            ]
          },
          "metadata": {},
          "execution_count": 55
        }
      ]
    },
    {
      "cell_type": "markdown",
      "source": [
        "https://apmonitor.com/do/index.php/Main/TCLabD"
      ],
      "metadata": {
        "id": "Vn_3lKuX-MiV"
      }
    },
    {
      "cell_type": "code",
      "source": [
        "pred_y"
      ],
      "metadata": {
        "id": "cqs3_DRrfUeZ",
        "colab": {
          "base_uri": "https://localhost:8080/"
        },
        "outputId": "a397d872-379f-40d1-d3e7-ae1ff96072d8"
      },
      "execution_count": null,
      "outputs": [
        {
          "output_type": "execute_result",
          "data": {
            "text/plain": [
              "tensor([[7.3363e+08],\n",
              "        [1.6742e+09],\n",
              "        [5.5682e+08],\n",
              "        [9.2334e+08],\n",
              "        [1.0417e+09],\n",
              "        [1.4429e+09],\n",
              "        [1.4714e+09],\n",
              "        [1.6056e+09],\n",
              "        [1.1738e+09],\n",
              "        [9.2506e+08]], dtype=torch.float64, grad_fn=<ReshapeAliasBackward0>)"
            ]
          },
          "metadata": {},
          "execution_count": 51
        }
      ]
    },
    {
      "cell_type": "code",
      "source": [
        "np.asarray(revs)/100000000"
      ],
      "metadata": {
        "colab": {
          "base_uri": "https://localhost:8080/"
        },
        "id": "vv2JzMfPfPVR",
        "outputId": "28dc04dc-4ba7-476e-a70c-cf8a77dc5612"
      },
      "execution_count": null,
      "outputs": [
        {
          "output_type": "execute_result",
          "data": {
            "text/plain": [
              "array([21.1556363 ,  9.88871876,  8.97769723, 10.29939901, 18.73242349,\n",
              "        9.73729771, 17.81080011, 12.68827755,  9.0769082 ,  9.83109528])"
            ]
          },
          "metadata": {},
          "execution_count": 52
        }
      ]
    },
    {
      "cell_type": "code",
      "source": [
        ""
      ],
      "metadata": {
        "id": "3YzpoJxhfZGA"
      },
      "execution_count": null,
      "outputs": []
    }
  ]
}